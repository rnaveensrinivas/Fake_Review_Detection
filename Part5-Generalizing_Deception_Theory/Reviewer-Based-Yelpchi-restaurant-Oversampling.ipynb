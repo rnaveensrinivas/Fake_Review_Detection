{
 "cells": [
  {
   "cell_type": "markdown",
   "metadata": {
    "id": "HwigWEG1FvZD"
   },
   "source": [
    "# Libraries"
   ]
  },
  {
   "cell_type": "code",
   "execution_count": 1,
   "metadata": {
    "id": "Slh0nidVFtoG"
   },
   "outputs": [],
   "source": [
    "import pandas as pd"
   ]
  },
  {
   "cell_type": "markdown",
   "metadata": {
    "id": "NWSWbndCFznP"
   },
   "source": [
    "# Importing Dataset"
   ]
  },
  {
   "cell_type": "code",
   "execution_count": 2,
   "metadata": {
    "colab": {
     "base_uri": "https://localhost:8080/"
    },
    "executionInfo": {
     "elapsed": 1163,
     "status": "ok",
     "timestamp": 1681703292848,
     "user": {
      "displayName": "Naveen Srinivas",
      "userId": "05804132684911048399"
     },
     "user_tz": -330
    },
    "id": "DLsxTobcFy4J",
    "outputId": "0b225b0b-3459-4715-d24f-e04d26fe7eb6"
   },
   "outputs": [
    {
     "name": "stdout",
     "output_type": "stream",
     "text": [
      "        date               review_id             reviewer_id  \\\n",
      "0  9/22/2012  GtwU21YOQn-wf4vWRUIx6w  bNYesZ944s6IJVowOnB0iA   \n",
      "1  9/22/2012                 0LpVTc3  TRKxLC3y-ZvP45e5iilMtw   \n",
      "2  9/19/2012           tljtLzf68Fkwf  0EMm8umAqXZzyhxNpL4M9g   \n",
      "3   9/6/2012                     iSN  DlwexC7z88ymAzu45skODw   \n",
      "4   9/9/2012                  Jmwrh7  kW2dk1CWihmh3g7k9N2G8A   \n",
      "\n",
      "               product_id label  useful  funny  cool  star_rating  \\\n",
      "0  pbEiXam9YJL3neCYHGwLUA     N       0      0     0            5   \n",
      "1  pbEiXam9YJL3neCYHGwLUA     N       0      0     0            5   \n",
      "2  pbEiXam9YJL3neCYHGwLUA     N       0      0     2            3   \n",
      "3  pbEiXam9YJL3neCYHGwLUA     N       3      0     8            3   \n",
      "4  pbEiXam9YJL3neCYHGwLUA     N       0      2     1            5   \n",
      "\n",
      "                                         review_text  \n",
      "0  Unlike Next, which we'd eaten at the previous ...  \n",
      "1  Probably one of the best meals I've had ever. ...  \n",
      "2  Service was impeccable. Experience and present...  \n",
      "3  The problem with places like this, given the e...  \n",
      "4  I have no idea how to write my review - dining...  \n"
     ]
    }
   ],
   "source": [
    "dataset = pd.read_csv(\"YelpChi-restaurant.csv\")\n",
    "print(dataset.head(5))"
   ]
  },
  {
   "cell_type": "code",
   "execution_count": 3,
   "metadata": {
    "colab": {
     "base_uri": "https://localhost:8080/"
    },
    "executionInfo": {
     "elapsed": 936,
     "status": "ok",
     "timestamp": 1681703293779,
     "user": {
      "displayName": "Naveen Srinivas",
      "userId": "05804132684911048399"
     },
     "user_tz": -330
    },
    "id": "rkNPQ6LPFyQT",
    "outputId": "0843df97-0793-4700-9282-e0461b8c0b4d"
   },
   "outputs": [
    {
     "name": "stdout",
     "output_type": "stream",
     "text": [
      "        date               review_id             reviewer_id  \\\n",
      "0  9/22/2012  GtwU21YOQn-wf4vWRUIx6w  bNYesZ944s6IJVowOnB0iA   \n",
      "1  9/22/2012                 0LpVTc3  TRKxLC3y-ZvP45e5iilMtw   \n",
      "2  9/19/2012           tljtLzf68Fkwf  0EMm8umAqXZzyhxNpL4M9g   \n",
      "3   9/6/2012                     iSN  DlwexC7z88ymAzu45skODw   \n",
      "4   9/9/2012                  Jmwrh7  kW2dk1CWihmh3g7k9N2G8A   \n",
      "\n",
      "               product_id label  useful  funny  cool  star_rating  \\\n",
      "0  pbEiXam9YJL3neCYHGwLUA     N       0      0     0            5   \n",
      "1  pbEiXam9YJL3neCYHGwLUA     N       0      0     0            5   \n",
      "2  pbEiXam9YJL3neCYHGwLUA     N       0      0     2            3   \n",
      "3  pbEiXam9YJL3neCYHGwLUA     N       3      0     8            3   \n",
      "4  pbEiXam9YJL3neCYHGwLUA     N       0      2     1            5   \n",
      "\n",
      "                                         review_text  \n",
      "0  Unlike Next which we'd eaten at the previous n...  \n",
      "1  Probably one of the best meals I've had ever I...  \n",
      "2  Service was impeccable Experience and presenta...  \n",
      "3  The problem with places like this given the ex...  \n",
      "4  I have no idea how to write my review  dining ...  \n"
     ]
    }
   ],
   "source": [
    "punctuations = '!\"#$%&()*+,-./:;<=>?@[\\\\]^_`{|}~'  \n",
    "dataset[\"review_text\"] = dataset[\n",
    "    \"review_text\"].str.replace(\"[{}]\".format(punctuations), \"\", regex = True)\n",
    "print(dataset.head(5))"
   ]
  },
  {
   "cell_type": "markdown",
   "metadata": {
    "id": "TDpzS79EnZg-"
   },
   "source": [
    "# Preprocessing: Changing Labels\n"
   ]
  },
  {
   "cell_type": "code",
   "execution_count": 4,
   "metadata": {
    "colab": {
     "base_uri": "https://localhost:8080/"
    },
    "executionInfo": {
     "elapsed": 24642,
     "status": "ok",
     "timestamp": 1681703318414,
     "user": {
      "displayName": "Naveen Srinivas",
      "userId": "05804132684911048399"
     },
     "user_tz": -330
    },
    "id": "lHLEq0uslW13",
    "outputId": "5509a60b-f4f5-4ad2-dafc-3d654c055d48"
   },
   "outputs": [
    {
     "name": "stdout",
     "output_type": "stream",
     "text": [
      "Progress...\n",
      "5000\t rows complete\n",
      "10000\t rows complete\n",
      "15000\t rows complete\n",
      "20000\t rows complete\n",
      "25000\t rows complete\n",
      "30000\t rows complete\n",
      "35000\t rows complete\n",
      "40000\t rows complete\n",
      "45000\t rows complete\n",
      "50000\t rows complete\n",
      "55000\t rows complete\n",
      "60000\t rows complete\n",
      "----------------------\n",
      "Fake review Count = 8141\n",
      "Real review Count = 53400\n",
      "Total review Count = 61541\n",
      "\n",
      "\n",
      "\n",
      "        date               review_id             reviewer_id  \\\n",
      "0  9/22/2012  GtwU21YOQn-wf4vWRUIx6w  bNYesZ944s6IJVowOnB0iA   \n",
      "1  9/22/2012                 0LpVTc3  TRKxLC3y-ZvP45e5iilMtw   \n",
      "2  9/19/2012           tljtLzf68Fkwf  0EMm8umAqXZzyhxNpL4M9g   \n",
      "3   9/6/2012                     iSN  DlwexC7z88ymAzu45skODw   \n",
      "4   9/9/2012                  Jmwrh7  kW2dk1CWihmh3g7k9N2G8A   \n",
      "\n",
      "               product_id label  useful  funny  cool  star_rating  \\\n",
      "0  pbEiXam9YJL3neCYHGwLUA     0       0      0     0            5   \n",
      "1  pbEiXam9YJL3neCYHGwLUA     0       0      0     0            5   \n",
      "2  pbEiXam9YJL3neCYHGwLUA     0       0      0     2            3   \n",
      "3  pbEiXam9YJL3neCYHGwLUA     0       3      0     8            3   \n",
      "4  pbEiXam9YJL3neCYHGwLUA     0       0      2     1            5   \n",
      "\n",
      "                                         review_text  \n",
      "0  Unlike Next which we'd eaten at the previous n...  \n",
      "1  Probably one of the best meals I've had ever I...  \n",
      "2  Service was impeccable Experience and presenta...  \n",
      "3  The problem with places like this given the ex...  \n",
      "4  I have no idea how to write my review  dining ...  \n"
     ]
    }
   ],
   "source": [
    "# Changing the labels from Y-N to 1-0.\n",
    "fake_review_count = 0\n",
    "real_review_count = 0\n",
    "\n",
    "print(\"Progress...\")\n",
    "for i in range(len(dataset)):\n",
    "  if dataset.loc[i,\"label\"] == 'N':   # real review\n",
    "    dataset.loc[i,\"label\"] = 0     \n",
    "    real_review_count += 1\n",
    "  else:   \n",
    "    dataset.loc[i,\"label\"] = 1\n",
    "    fake_review_count += 1\n",
    "  \n",
    "  if i % 5000 == 0 and i != 0:\n",
    "    print(f\"{i}\\t rows complete\")\n",
    "print(\"----------------------\")\n",
    "\n",
    "print(f\"Fake review Count = {fake_review_count}\")\n",
    "print(f\"Real review Count = {real_review_count}\")\n",
    "print(f\"Total review Count = {real_review_count + fake_review_count}\")\n",
    "print(\"\\n\\n\")\n",
    "\n",
    "print(dataset.head(5))"
   ]
  },
  {
   "cell_type": "markdown",
   "metadata": {
    "id": "xrnGaQe_ItPW"
   },
   "source": [
    "# Feature: Word Count"
   ]
  },
  {
   "cell_type": "code",
   "execution_count": 5,
   "metadata": {
    "colab": {
     "base_uri": "https://localhost:8080/"
    },
    "executionInfo": {
     "elapsed": 6741,
     "status": "ok",
     "timestamp": 1681703325139,
     "user": {
      "displayName": "Naveen Srinivas",
      "userId": "05804132684911048399"
     },
     "user_tz": -330
    },
    "id": "9sEuMyjdGW_1",
    "outputId": "df28dcd6-ac2a-45fa-e500-70e5581092e9"
   },
   "outputs": [
    {
     "name": "stdout",
     "output_type": "stream",
     "text": [
      "Progress...\n",
      "5000\t rows complete\n",
      "10000\t rows complete\n",
      "15000\t rows complete\n",
      "20000\t rows complete\n",
      "25000\t rows complete\n",
      "30000\t rows complete\n",
      "35000\t rows complete\n",
      "40000\t rows complete\n",
      "45000\t rows complete\n",
      "50000\t rows complete\n",
      "55000\t rows complete\n",
      "60000\t rows complete\n",
      "----------------------\n",
      "        date               review_id             reviewer_id  \\\n",
      "0  9/22/2012  GtwU21YOQn-wf4vWRUIx6w  bNYesZ944s6IJVowOnB0iA   \n",
      "1  9/22/2012                 0LpVTc3  TRKxLC3y-ZvP45e5iilMtw   \n",
      "2  9/19/2012           tljtLzf68Fkwf  0EMm8umAqXZzyhxNpL4M9g   \n",
      "3   9/6/2012                     iSN  DlwexC7z88ymAzu45skODw   \n",
      "4   9/9/2012                  Jmwrh7  kW2dk1CWihmh3g7k9N2G8A   \n",
      "\n",
      "               product_id label  useful  funny  cool  star_rating  \\\n",
      "0  pbEiXam9YJL3neCYHGwLUA     0       0      0     0            5   \n",
      "1  pbEiXam9YJL3neCYHGwLUA     0       0      0     0            5   \n",
      "2  pbEiXam9YJL3neCYHGwLUA     0       0      0     2            3   \n",
      "3  pbEiXam9YJL3neCYHGwLUA     0       3      0     8            3   \n",
      "4  pbEiXam9YJL3neCYHGwLUA     0       0      2     1            5   \n",
      "\n",
      "                                         review_text  word_count  \n",
      "0  Unlike Next which we'd eaten at the previous n...       868.0  \n",
      "1  Probably one of the best meals I've had ever I...        65.0  \n",
      "2  Service was impeccable Experience and presenta...        45.0  \n",
      "3  The problem with places like this given the ex...       358.0  \n",
      "4  I have no idea how to write my review  dining ...       168.0  \n"
     ]
    }
   ],
   "source": [
    "print(\"Progress...\")\n",
    "for i in range(len(dataset)): \n",
    "  words = str(dataset.loc[i,\"review_text\"]).split()\n",
    "  dataset.loc[i,\"word_count\"] = len(words)  \n",
    "\n",
    "  if i % 5000 == 0 and i != 0:\n",
    "    print(f\"{i}\\t rows complete\")\n",
    "print(\"----------------------\")\n",
    "\n",
    "print(dataset.head(5))"
   ]
  },
  {
   "cell_type": "markdown",
   "metadata": {
    "id": "iZDMQ_xPPYiW"
   },
   "source": [
    "# Feature: Rating Deviation"
   ]
  },
  {
   "cell_type": "code",
   "execution_count": 6,
   "metadata": {
    "colab": {
     "base_uri": "https://localhost:8080/"
    },
    "executionInfo": {
     "elapsed": 14791,
     "status": "ok",
     "timestamp": 1681703350511,
     "user": {
      "displayName": "Naveen Srinivas",
      "userId": "05804132684911048399"
     },
     "user_tz": -330
    },
    "id": "FOCOB4YuPwLJ",
    "outputId": "75b6eb32-ee37-4c17-eb28-c6ccfe99be31"
   },
   "outputs": [
    {
     "name": "stdout",
     "output_type": "stream",
     "text": [
      "Pass 1 progress\n",
      "5000\t rows complete\n",
      "10000\t rows complete\n",
      "15000\t rows complete\n",
      "20000\t rows complete\n",
      "25000\t rows complete\n",
      "30000\t rows complete\n",
      "35000\t rows complete\n",
      "40000\t rows complete\n",
      "45000\t rows complete\n",
      "50000\t rows complete\n",
      "55000\t rows complete\n",
      "60000\t rows complete\n",
      "----------------------\n",
      "Pass 2 progress\n",
      "5000\t rows complete\n",
      "10000\t rows complete\n",
      "15000\t rows complete\n",
      "20000\t rows complete\n",
      "25000\t rows complete\n",
      "30000\t rows complete\n",
      "35000\t rows complete\n",
      "40000\t rows complete\n",
      "45000\t rows complete\n",
      "50000\t rows complete\n",
      "55000\t rows complete\n",
      "60000\t rows complete\n",
      "----------------------\n"
     ]
    }
   ],
   "source": [
    "product_ratings= {}\n",
    "\n",
    "print(\"Pass 1 progress\")\n",
    "for i in range(len(dataset)):\n",
    "  if dataset.loc[i,\"product_id\"] in product_ratings:\n",
    "    product_ratings[dataset.loc[i,\"product_id\"]].append(dataset.loc[i,\"star_rating\"])\n",
    "  else:\n",
    "    product_ratings[dataset.loc[i,\"product_id\"]] = [dataset.loc[i,\"star_rating\"]]\n",
    "  if i % 5000 == 0 and i != 0:\n",
    "    print(f\"{i}\\t rows complete\")\n",
    "print(\"----------------------\")\n",
    "\n",
    "print(\"Pass 2 progress\")\n",
    "for i in range(len(dataset)):\n",
    "  sum_of_ratings = sum(product_ratings[dataset.loc[i,\"product_id\"]])\n",
    "  no_of_ratings = len(product_ratings[dataset.loc[i,\"product_id\"]])\n",
    "  avg = (sum_of_ratings - dataset.loc[i,\"star_rating\"]) / no_of_ratings\n",
    "\n",
    "  dataset.loc[i,\"rating_deviation\"] = abs(dataset.loc[i,\"star_rating\"] - avg)\n",
    "\n",
    "  if i % 5000 == 0 and i != 0:\n",
    "    print(f\"{i}\\t rows complete\")\n",
    "print(\"----------------------\")\n"
   ]
  },
  {
   "cell_type": "markdown",
   "metadata": {
    "id": "BCe3C6BHTdXA"
   },
   "source": [
    "# Feature: Maximum Number of Reviews any day"
   ]
  },
  {
   "cell_type": "code",
   "execution_count": 7,
   "metadata": {
    "colab": {
     "base_uri": "https://localhost:8080/"
    },
    "executionInfo": {
     "elapsed": 7687,
     "status": "ok",
     "timestamp": 1681703358188,
     "user": {
      "displayName": "Naveen Srinivas",
      "userId": "05804132684911048399"
     },
     "user_tz": -330
    },
    "id": "QXZQRQOZR5vQ",
    "outputId": "e397b7cc-daf8-4c96-ca06-464020fd49ba"
   },
   "outputs": [
    {
     "name": "stdout",
     "output_type": "stream",
     "text": [
      "Pass 1 Status:- \n",
      "5000\t rows complete\n",
      "10000\t rows complete\n",
      "15000\t rows complete\n",
      "20000\t rows complete\n",
      "25000\t rows complete\n",
      "30000\t rows complete\n",
      "35000\t rows complete\n",
      "40000\t rows complete\n",
      "45000\t rows complete\n",
      "50000\t rows complete\n",
      "55000\t rows complete\n",
      "60000\t rows complete\n",
      "----------------------\n",
      "Pass 2 Status:- \n",
      "5000\t rows complete\n",
      "10000\t rows complete\n",
      "15000\t rows complete\n",
      "20000\t rows complete\n",
      "25000\t rows complete\n",
      "30000\t rows complete\n",
      "35000\t rows complete\n",
      "40000\t rows complete\n",
      "45000\t rows complete\n",
      "50000\t rows complete\n",
      "55000\t rows complete\n",
      "60000\t rows complete\n",
      "----------------------\n",
      "        date               review_id             reviewer_id  \\\n",
      "0  9/22/2012  GtwU21YOQn-wf4vWRUIx6w  bNYesZ944s6IJVowOnB0iA   \n",
      "1  9/22/2012                 0LpVTc3  TRKxLC3y-ZvP45e5iilMtw   \n",
      "2  9/19/2012           tljtLzf68Fkwf  0EMm8umAqXZzyhxNpL4M9g   \n",
      "3   9/6/2012                     iSN  DlwexC7z88ymAzu45skODw   \n",
      "4   9/9/2012                  Jmwrh7  kW2dk1CWihmh3g7k9N2G8A   \n",
      "\n",
      "               product_id label  useful  funny  cool  star_rating  \\\n",
      "0  pbEiXam9YJL3neCYHGwLUA     0       0      0     0            5   \n",
      "1  pbEiXam9YJL3neCYHGwLUA     0       0      0     0            5   \n",
      "2  pbEiXam9YJL3neCYHGwLUA     0       0      0     2            3   \n",
      "3  pbEiXam9YJL3neCYHGwLUA     0       3      0     8            3   \n",
      "4  pbEiXam9YJL3neCYHGwLUA     0       0      2     1            5   \n",
      "\n",
      "                                         review_text  word_count  \\\n",
      "0  Unlike Next which we'd eaten at the previous n...       868.0   \n",
      "1  Probably one of the best meals I've had ever I...        65.0   \n",
      "2  Service was impeccable Experience and presenta...        45.0   \n",
      "3  The problem with places like this given the ex...       358.0   \n",
      "4  I have no idea how to write my review  dining ...       168.0   \n",
      "\n",
      "   rating_deviation  maximum_reviewing_frequency  \n",
      "0          0.402494                          1.0  \n",
      "1          0.402494                          1.0  \n",
      "2          1.599773                          1.0  \n",
      "3          1.599773                          1.0  \n",
      "4          0.402494                          1.0  \n"
     ]
    }
   ],
   "source": [
    "\"\"\"\n",
    "Algorithm \n",
    "The complexity of the algorithm is O(n)\n",
    "The data structure used here is dictionary of dictionaries.\n",
    "\n",
    "There are three passes. \n",
    "\n",
    "Pass1:- Passing over data. \n",
    "Here we will be just storing the user_id and \n",
    "  the number of different dates on which the user has texted.\n",
    "The former is the outer dictionary and latter is the inner dictionary. \n",
    "\n",
    "The outer dictionary's key is user_id and value is inner dictionary. \n",
    "The inner dictionary's key is date and value is the count of reviews on that date. \n",
    "\n",
    "Effectively giving out the following code:\n",
    "dic = {user_id, nested_dic = {date, count}}\n",
    "eg:- {923: {\"2014-12-08\": 1}, 924: {\"2013-05-16\": 1}, 925: {\"2013-07-01\": 1}, 926: {\"2011-07-28\": 1}, 927: {\"2010-11-01\": 1}}\n",
    "What it contains is, the list of days a user has written review and along with the number of reviews on that day. \n",
    "\n",
    "------\n",
    "\n",
    "Pass2:- Passing over the dic\n",
    "Here will be using another dictionary to store the maximum reviews on a date. \n",
    "The above is extracted by iterating through the dictionary. \n",
    "dic2 = { user_id, max_count }\n",
    "eg:- {923: 1, 924: 1, 925: 1, 926: 1, 927: 1}\n",
    "\n",
    "------\n",
    "\n",
    "Pass3:- Filling in the features table.\n",
    "\n",
    "------\n",
    "\n",
    "Pseudo Code:- \n",
    "\n",
    "#first pass\n",
    "for i in range(data):\n",
    "  if user_id exists in dic:\n",
    "    if date exists in dic[user_id]\n",
    "      dic[user_id][date] += 1\n",
    "    else:\n",
    "      #implies date doesn\"t exists\n",
    "      dic[user_id][date] = 1\n",
    "  else\n",
    "    #implies user doesn\"t exists\n",
    "    dic[user_id] = {} \n",
    "\n",
    "#second pass\n",
    "dic2 = { user_id, max_count }\n",
    "\n",
    "for user_id in dic: #iterating through every key of dic\n",
    "  count = 0\n",
    "  \n",
    "  for date in dic[user_id]: \n",
    "    count = max(count, dic[user_id][date])\n",
    "\n",
    "  dic2[user_id] = count\n",
    "\n",
    "#Third pass\n",
    "for i in range(data):\n",
    "  data[f24_maximum_reviewing_frequency] = dic2[data.loc[i,\"user_id\"]]\n",
    "\"\"\"\n",
    "\n",
    "user_review_dates_dictionary = {}\n",
    "\n",
    "print(\"Pass 1 Status:- \")\n",
    "for i in range(len(dataset)):\n",
    "  if dataset.loc[i,\"reviewer_id\"] in user_review_dates_dictionary:\n",
    "    \n",
    "    if dataset.loc[i,\"date\"] in user_review_dates_dictionary[dataset.loc[i,\"reviewer_id\"]]:\n",
    "      user_review_dates_dictionary[dataset.loc[i,\"reviewer_id\"]][dataset.loc[i,\"date\"]] += 1\n",
    "    else:\n",
    "      user_review_dates_dictionary[dataset.loc[i,\"reviewer_id\"]][dataset.loc[i,\"date\"]] = 1\n",
    "\n",
    "  else:\n",
    "    user_review_dates_dictionary[dataset.loc[i,\"reviewer_id\"]] = {}\n",
    "    user_review_dates_dictionary[dataset.loc[i,\"reviewer_id\"]][dataset.loc[i,\"date\"]] = 1\n",
    "  \n",
    "  if i % 5000 == 0 and i != 0:\n",
    "      print(f\"{i}\\t rows complete\")\n",
    "print(\"----------------------\")\n",
    "\n",
    "\n",
    "user_max_review_per_day_dictionary = {} \n",
    "\n",
    "for user_id in user_review_dates_dictionary:\n",
    "  count = 0\n",
    "\n",
    "  for date in user_review_dates_dictionary[user_id]:\n",
    "    count = max(count, user_review_dates_dictionary[user_id][date])\n",
    "  \n",
    "  user_max_review_per_day_dictionary[user_id] = count\n",
    "\n",
    "print(\"Pass 2 Status:- \")\n",
    "for i in range(len(dataset)):\n",
    "  dataset.loc[i,\"maximum_reviewing_frequency\"] = user_max_review_per_day_dictionary[dataset.loc[i,\"reviewer_id\"]]\n",
    "\n",
    "  if i % 5000 == 0 and i != 0:\n",
    "      print(f\"{i}\\t rows complete\")\n",
    "print(\"----------------------\")\n",
    "\n",
    "print(dataset.head(5))"
   ]
  },
  {
   "cell_type": "markdown",
   "metadata": {
    "id": "kJbFN8EVU1EZ"
   },
   "source": [
    "# Number of reviews"
   ]
  },
  {
   "cell_type": "code",
   "execution_count": 8,
   "metadata": {
    "colab": {
     "base_uri": "https://localhost:8080/"
    },
    "executionInfo": {
     "elapsed": 7728,
     "status": "ok",
     "timestamp": 1681703365885,
     "user": {
      "displayName": "Naveen Srinivas",
      "userId": "05804132684911048399"
     },
     "user_tz": -330
    },
    "id": "FaAPYMrrU3WU",
    "outputId": "bd75663d-e61c-4161-e9f0-d09bf0f2cf8f"
   },
   "outputs": [
    {
     "name": "stdout",
     "output_type": "stream",
     "text": [
      "Pass 1 Status:- \n",
      "5000\t rows complete\n",
      "10000\t rows complete\n",
      "15000\t rows complete\n",
      "20000\t rows complete\n",
      "25000\t rows complete\n",
      "30000\t rows complete\n",
      "35000\t rows complete\n",
      "40000\t rows complete\n",
      "45000\t rows complete\n",
      "50000\t rows complete\n",
      "55000\t rows complete\n",
      "60000\t rows complete\n",
      "----------------------\n",
      "\n",
      "\n",
      "Pass 2 Status:- \n",
      "5000\t rows complete\n",
      "10000\t rows complete\n",
      "15000\t rows complete\n",
      "20000\t rows complete\n",
      "25000\t rows complete\n",
      "30000\t rows complete\n",
      "35000\t rows complete\n",
      "40000\t rows complete\n",
      "45000\t rows complete\n",
      "50000\t rows complete\n",
      "55000\t rows complete\n",
      "60000\t rows complete\n",
      "----------------------\n",
      "        date               review_id             reviewer_id  \\\n",
      "0  9/22/2012  GtwU21YOQn-wf4vWRUIx6w  bNYesZ944s6IJVowOnB0iA   \n",
      "1  9/22/2012                 0LpVTc3  TRKxLC3y-ZvP45e5iilMtw   \n",
      "2  9/19/2012           tljtLzf68Fkwf  0EMm8umAqXZzyhxNpL4M9g   \n",
      "3   9/6/2012                     iSN  DlwexC7z88ymAzu45skODw   \n",
      "4   9/9/2012                  Jmwrh7  kW2dk1CWihmh3g7k9N2G8A   \n",
      "\n",
      "               product_id label  useful  funny  cool  star_rating  \\\n",
      "0  pbEiXam9YJL3neCYHGwLUA     0       0      0     0            5   \n",
      "1  pbEiXam9YJL3neCYHGwLUA     0       0      0     0            5   \n",
      "2  pbEiXam9YJL3neCYHGwLUA     0       0      0     2            3   \n",
      "3  pbEiXam9YJL3neCYHGwLUA     0       3      0     8            3   \n",
      "4  pbEiXam9YJL3neCYHGwLUA     0       0      2     1            5   \n",
      "\n",
      "                                         review_text  word_count  \\\n",
      "0  Unlike Next which we'd eaten at the previous n...       868.0   \n",
      "1  Probably one of the best meals I've had ever I...        65.0   \n",
      "2  Service was impeccable Experience and presenta...        45.0   \n",
      "3  The problem with places like this given the ex...       358.0   \n",
      "4  I have no idea how to write my review  dining ...       168.0   \n",
      "\n",
      "   rating_deviation  maximum_reviewing_frequency  number_of_reviews  \n",
      "0          0.402494                          1.0                2.0  \n",
      "1          0.402494                          1.0                1.0  \n",
      "2          1.599773                          1.0                1.0  \n",
      "3          1.599773                          1.0                1.0  \n",
      "4          0.402494                          1.0               11.0  \n"
     ]
    }
   ],
   "source": [
    "\"\"\"\n",
    "Algorithm\n",
    "The task is done in two passes of the dataset using a dictionary.\n",
    "\n",
    "Create a dictionary to hold (user_id, count_of_review_posts) as key-value pairs.\n",
    "\n",
    "First pass:- \n",
    "For each review increment the reviewer\"s count.\n",
    "\n",
    "Second pass:-\n",
    "For each review assign the corresponding value of reviewer from dictionary. \n",
    "\n",
    "\"\"\"\n",
    "\n",
    "reviews_count_per_user = {}\n",
    "\n",
    "print(\"Pass 1 Status:- \")\n",
    "for i in range(len(dataset)):   \n",
    "\n",
    "  if dataset.loc[i,\"reviewer_id\"] in reviews_count_per_user:\n",
    "    reviews_count_per_user[dataset.loc[i,\"reviewer_id\"]] += 1\n",
    "  else:\n",
    "    reviews_count_per_user[dataset.loc[i,\"reviewer_id\"]] = 1\n",
    "\n",
    "  if i % 5000 == 0 and i != 0:\n",
    "      print(f\"{i}\\t rows complete\")\n",
    "print(\"----------------------\")\n",
    "\n",
    "\n",
    "print(\"\\n\\nPass 2 Status:- \")\n",
    "for i in range(len(dataset)):\n",
    "\n",
    "  dataset.loc[i,\"number_of_reviews\"] = reviews_count_per_user[dataset.loc[i,\"reviewer_id\"]]\n",
    "\n",
    "  if i % 5000 == 0 and i != 0:\n",
    "      print(f\"{i}\\t rows complete\")\n",
    "print(\"----------------------\")\n",
    "\n",
    "print(dataset.head(5))"
   ]
  },
  {
   "cell_type": "markdown",
   "metadata": {
    "id": "TFxRXrRdUd2n"
   },
   "source": [
    "# Feature: Extreme Rating Ratio"
   ]
  },
  {
   "cell_type": "code",
   "execution_count": 9,
   "metadata": {
    "colab": {
     "base_uri": "https://localhost:8080/"
    },
    "executionInfo": {
     "elapsed": 9169,
     "status": "ok",
     "timestamp": 1681703375032,
     "user": {
      "displayName": "Naveen Srinivas",
      "userId": "05804132684911048399"
     },
     "user_tz": -330
    },
    "id": "sFaUElFBUdFn",
    "outputId": "2f15fcf7-2bcb-4d8c-881c-5f8abf529e06"
   },
   "outputs": [
    {
     "name": "stdout",
     "output_type": "stream",
     "text": [
      "Pass 1 Status:- \n",
      "5000\t rows complete\n",
      "10000\t rows complete\n",
      "15000\t rows complete\n",
      "20000\t rows complete\n",
      "25000\t rows complete\n",
      "30000\t rows complete\n",
      "35000\t rows complete\n",
      "40000\t rows complete\n",
      "45000\t rows complete\n",
      "50000\t rows complete\n",
      "55000\t rows complete\n",
      "60000\t rows complete\n",
      "----------------------\n",
      "Pass 2 Status:- \n",
      "5000\t rows complete\n",
      "10000\t rows complete\n",
      "15000\t rows complete\n",
      "20000\t rows complete\n",
      "25000\t rows complete\n",
      "30000\t rows complete\n",
      "35000\t rows complete\n",
      "40000\t rows complete\n",
      "45000\t rows complete\n",
      "50000\t rows complete\n",
      "55000\t rows complete\n",
      "60000\t rows complete\n",
      "----------------------\n",
      "        date               review_id             reviewer_id  \\\n",
      "0  9/22/2012  GtwU21YOQn-wf4vWRUIx6w  bNYesZ944s6IJVowOnB0iA   \n",
      "1  9/22/2012                 0LpVTc3  TRKxLC3y-ZvP45e5iilMtw   \n",
      "2  9/19/2012           tljtLzf68Fkwf  0EMm8umAqXZzyhxNpL4M9g   \n",
      "3   9/6/2012                     iSN  DlwexC7z88ymAzu45skODw   \n",
      "4   9/9/2012                  Jmwrh7  kW2dk1CWihmh3g7k9N2G8A   \n",
      "\n",
      "               product_id label  useful  funny  cool  star_rating  \\\n",
      "0  pbEiXam9YJL3neCYHGwLUA     0       0      0     0            5   \n",
      "1  pbEiXam9YJL3neCYHGwLUA     0       0      0     0            5   \n",
      "2  pbEiXam9YJL3neCYHGwLUA     0       0      0     2            3   \n",
      "3  pbEiXam9YJL3neCYHGwLUA     0       3      0     8            3   \n",
      "4  pbEiXam9YJL3neCYHGwLUA     0       0      2     1            5   \n",
      "\n",
      "                                         review_text  word_count  \\\n",
      "0  Unlike Next which we'd eaten at the previous n...       868.0   \n",
      "1  Probably one of the best meals I've had ever I...        65.0   \n",
      "2  Service was impeccable Experience and presenta...        45.0   \n",
      "3  The problem with places like this given the ex...       358.0   \n",
      "4  I have no idea how to write my review  dining ...       168.0   \n",
      "\n",
      "   rating_deviation  maximum_reviewing_frequency  number_of_reviews  \\\n",
      "0          0.402494                          1.0                2.0   \n",
      "1          0.402494                          1.0                1.0   \n",
      "2          1.599773                          1.0                1.0   \n",
      "3          1.599773                          1.0                1.0   \n",
      "4          0.402494                          1.0               11.0   \n",
      "\n",
      "   extreme_rating_ratio  \n",
      "0              0.500000  \n",
      "1              1.000000  \n",
      "2              0.000000  \n",
      "3              0.000000  \n",
      "4              0.363636  \n"
     ]
    }
   ],
   "source": [
    "\"\"\"\n",
    "Algorithm\n",
    "The task is done in two passes of the rows and using dictionary.\n",
    "\n",
    "Create a dictionary to hold (user_id, count_of_max_rating_reviews) as key-value pairs.\n",
    "\n",
    "First pass:- \n",
    "For each review \n",
    "  increment the reviewer's count if the rating is in {1,5}\n",
    "\n",
    "Second pass:-\n",
    "For each review assign the corresponding value of reviewer from dictionary. \n",
    "\n",
    "\"\"\"\n",
    "MAX_RATING = 5\n",
    "MIN_RATING = 1\n",
    "extreme_rating_count_per_user = {}\n",
    "\n",
    "print(\"Pass 1 Status:- \")\n",
    "for i in range(len(dataset)):                  \n",
    "  if dataset.loc[i,\"star_rating\"] == MIN_RATING or dataset.loc[i,\"star_rating\"] == MAX_RATING:\n",
    "    if dataset.loc[i,\"reviewer_id\"] in extreme_rating_count_per_user:\n",
    "      extreme_rating_count_per_user[dataset.loc[i,\"reviewer_id\"]] += 1\n",
    "    else:\n",
    "      extreme_rating_count_per_user[dataset.loc[i,\"reviewer_id\"]] = 1\n",
    "\n",
    "  if i % 5000 == 0 and i != 0:\n",
    "      print(f\"{i}\\t rows complete\")\n",
    "print(\"----------------------\")\n",
    "\n",
    "print(\"Pass 2 Status:- \")\n",
    "for i in range(len(dataset)):\n",
    "  dataset.loc[i,\"extreme_rating_ratio\"] = (extreme_rating_count_per_user[dataset.loc[i,\"reviewer_id\"]] / dataset.loc[i,\"number_of_reviews\"]) if dataset.loc[i,\"reviewer_id\"] in extreme_rating_count_per_user else 0.0\n",
    "  \n",
    "  if i % 5000 == 0 and i != 0:\n",
    "      print(f\"{i}\\t rows complete\")\n",
    "print(\"----------------------\")\n",
    "    \n",
    "print(dataset.head(5))"
   ]
  },
  {
   "cell_type": "markdown",
   "metadata": {
    "id": "rV-U4PHKVeEh"
   },
   "source": [
    "# Libraries for Models"
   ]
  },
  {
   "cell_type": "code",
   "execution_count": 10,
   "metadata": {
    "colab": {
     "base_uri": "https://localhost:8080/"
    },
    "executionInfo": {
     "elapsed": 4991,
     "status": "ok",
     "timestamp": 1681703452666,
     "user": {
      "displayName": "Naveen Srinivas",
      "userId": "05804132684911048399"
     },
     "user_tz": -330
    },
    "id": "D64zJJ-5VdwZ",
    "outputId": "9eb35671-84f2-4d18-b00e-153270c61c75"
   },
   "outputs": [
    {
     "name": "stderr",
     "output_type": "stream",
     "text": [
      "ERROR: Invalid requirement: '#'\n"
     ]
    }
   ],
   "source": [
    "import pandas as pd   # for importing features\n",
    "! pip install -U imbalanced-learn         # for balancing features.\n",
    "from imblearn.over_sampling import RandomOverSampler\n",
    "\n",
    "from sklearn.model_selection import train_test_split\n",
    "\n",
    "from sklearn.linear_model import LogisticRegression\n",
    "from sklearn.metrics import classification_report\n",
    "from sklearn.metrics import confusion_matrix\n",
    "from sklearn.metrics import roc_curve, roc_auc_score\n",
    "from matplotlib import pyplot as plt      # for plotting confusion matrix\n",
    "import seaborn as sns   # templates for confusion matrix\n",
    "from sklearn.naive_bayes import GaussianNB\n",
    "from sklearn import tree\n",
    "from sklearn.ensemble import RandomForestClassifier\n",
    "from sklearn import svm\n",
    "from sklearn.neural_network import MLPClassifier\n",
    "from sklearn.ensemble import GradientBoostingClassifier\n",
    "from sklearn.linear_model import PassiveAggressiveClassifier"
   ]
  },
  {
   "cell_type": "code",
   "execution_count": 11,
   "metadata": {
    "colab": {
     "base_uri": "https://localhost:8080/"
    },
    "executionInfo": {
     "elapsed": 36,
     "status": "ok",
     "timestamp": 1681703379158,
     "user": {
      "displayName": "Naveen Srinivas",
      "userId": "05804132684911048399"
     },
     "user_tz": -330
    },
    "id": "BPl9xY7XVg4a",
    "outputId": "75b5896b-6ed4-4526-ae3c-6546b8ddeb25"
   },
   "outputs": [
    {
     "data": {
      "text/plain": [
       "['date',\n",
       " 'review_id',\n",
       " 'reviewer_id',\n",
       " 'product_id',\n",
       " 'label',\n",
       " 'useful',\n",
       " 'funny',\n",
       " 'cool',\n",
       " 'star_rating',\n",
       " 'review_text',\n",
       " 'word_count',\n",
       " 'rating_deviation',\n",
       " 'maximum_reviewing_frequency',\n",
       " 'number_of_reviews',\n",
       " 'extreme_rating_ratio']"
      ]
     },
     "execution_count": 11,
     "metadata": {},
     "output_type": "execute_result"
    }
   ],
   "source": [
    "list(dataset.columns)"
   ]
  },
  {
   "cell_type": "code",
   "execution_count": 12,
   "metadata": {
    "id": "KtO-J-8bVoC6"
   },
   "outputs": [],
   "source": [
    "features = dataset.drop(['date', 'review_id', 'reviewer_id', 'product_id', 'review_text'], axis = 'columns')"
   ]
  },
  {
   "cell_type": "code",
   "execution_count": 13,
   "metadata": {
    "colab": {
     "base_uri": "https://localhost:8080/"
    },
    "executionInfo": {
     "elapsed": 33,
     "status": "ok",
     "timestamp": 1681703379159,
     "user": {
      "displayName": "Naveen Srinivas",
      "userId": "05804132684911048399"
     },
     "user_tz": -330
    },
    "id": "Y7LY7UrZVxfY",
    "outputId": "708c6ca0-16bf-45fd-9dde-7877513a1d42"
   },
   "outputs": [
    {
     "name": "stdout",
     "output_type": "stream",
     "text": [
      "  label  useful  funny  cool  star_rating  word_count  rating_deviation  \\\n",
      "0     0       0      0     0            5       868.0          0.402494   \n",
      "1     0       0      0     0            5        65.0          0.402494   \n",
      "2     0       0      0     2            3        45.0          1.599773   \n",
      "3     0       3      0     8            3       358.0          1.599773   \n",
      "4     0       0      2     1            5       168.0          0.402494   \n",
      "\n",
      "   maximum_reviewing_frequency  number_of_reviews  extreme_rating_ratio  \n",
      "0                          1.0                2.0              0.500000  \n",
      "1                          1.0                1.0              1.000000  \n",
      "2                          1.0                1.0              0.000000  \n",
      "3                          1.0                1.0              0.000000  \n",
      "4                          1.0               11.0              0.363636  \n"
     ]
    }
   ],
   "source": [
    "print(features.head(5))"
   ]
  },
  {
   "cell_type": "code",
   "execution_count": 14,
   "metadata": {
    "id": "GOjjeljqWLDE"
   },
   "outputs": [],
   "source": [
    "X = features.drop('label', axis = 'columns')\n",
    "y = features['label']\n",
    "y=y.astype('int')"
   ]
  },
  {
   "cell_type": "code",
   "execution_count": 15,
   "metadata": {
    "colab": {
     "base_uri": "https://localhost:8080/"
    },
    "executionInfo": {
     "elapsed": 28,
     "status": "ok",
     "timestamp": 1681703379159,
     "user": {
      "displayName": "Naveen Srinivas",
      "userId": "05804132684911048399"
     },
     "user_tz": -330
    },
    "id": "DDP19QTlXnTW",
    "outputId": "8304bfb7-aada-4bdc-d05a-1d297813c0f0"
   },
   "outputs": [
    {
     "name": "stdout",
     "output_type": "stream",
     "text": [
      "   useful  funny  cool  star_rating  word_count  rating_deviation  \\\n",
      "0       0      0     0            5       868.0          0.402494   \n",
      "1       0      0     0            5        65.0          0.402494   \n",
      "2       0      0     2            3        45.0          1.599773   \n",
      "3       3      0     8            3       358.0          1.599773   \n",
      "4       0      2     1            5       168.0          0.402494   \n",
      "\n",
      "   maximum_reviewing_frequency  number_of_reviews  extreme_rating_ratio  \n",
      "0                          1.0                2.0              0.500000  \n",
      "1                          1.0                1.0              1.000000  \n",
      "2                          1.0                1.0              0.000000  \n",
      "3                          1.0                1.0              0.000000  \n",
      "4                          1.0               11.0              0.363636  \n",
      "\n",
      "----\n",
      "\n",
      "0    0\n",
      "1    0\n",
      "2    0\n",
      "3    0\n",
      "4    0\n",
      "Name: label, dtype: int32\n"
     ]
    }
   ],
   "source": [
    "print(X.head(5))\n",
    "print(\"\\n----\\n\")\n",
    "print(y.head(5))"
   ]
  },
  {
   "cell_type": "code",
   "execution_count": 16,
   "metadata": {
    "colab": {
     "base_uri": "https://localhost:8080/"
    },
    "executionInfo": {
     "elapsed": 26,
     "status": "ok",
     "timestamp": 1681703379160,
     "user": {
      "displayName": "Naveen Srinivas",
      "userId": "05804132684911048399"
     },
     "user_tz": -330
    },
    "id": "GyaU17BUWYAf",
    "outputId": "cffd7669-4c8d-4a09-8d2a-ea2d29788ac8"
   },
   "outputs": [
    {
     "data": {
      "text/plain": [
       "0    53400\n",
       "1     8141\n",
       "Name: label, dtype: int64"
      ]
     },
     "execution_count": 16,
     "metadata": {},
     "output_type": "execute_result"
    }
   ],
   "source": [
    "y.value_counts()"
   ]
  },
  {
   "cell_type": "code",
   "execution_count": 17,
   "metadata": {
    "colab": {
     "base_uri": "https://localhost:8080/"
    },
    "executionInfo": {
     "elapsed": 22,
     "status": "ok",
     "timestamp": 1681703379160,
     "user": {
      "displayName": "Naveen Srinivas",
      "userId": "05804132684911048399"
     },
     "user_tz": -330
    },
    "id": "wvvxhXOWWkYQ",
    "outputId": "3ca8672e-686b-49d3-bce6-642bfa7cf231"
   },
   "outputs": [
    {
     "data": {
      "text/plain": [
       "0    53400\n",
       "1    53400\n",
       "Name: label, dtype: int64"
      ]
     },
     "execution_count": 17,
     "metadata": {},
     "output_type": "execute_result"
    }
   ],
   "source": [
    "# Oversampling the minority class.\n",
    "ros = RandomOverSampler(sampling_strategy = 1) \n",
    "y = y.astype('int')\n",
    "X, y = ros.fit_resample(X, y)\n",
    "y.value_counts()"
   ]
  },
  {
   "cell_type": "code",
   "execution_count": 18,
   "metadata": {
    "colab": {
     "base_uri": "https://localhost:8080/"
    },
    "executionInfo": {
     "elapsed": 629,
     "status": "ok",
     "timestamp": 1681703379770,
     "user": {
      "displayName": "Naveen Srinivas",
      "userId": "05804132684911048399"
     },
     "user_tz": -330
    },
    "id": "5F21VTxmWnlV",
    "outputId": "974316c3-1979-4131-d66e-4afb97ed879c"
   },
   "outputs": [
    {
     "name": "stdout",
     "output_type": "stream",
     "text": [
      "X_train.shape = (96120, 9)\n",
      "y_train.shape = (96120,)\n",
      "\n",
      "X_test.shape = (10680, 9)\n",
      "y_test.shape = (10680,)\n"
     ]
    }
   ],
   "source": [
    "X_train, X_test, y_train, y_test = train_test_split(X, y, test_size = 0.10, random_state = 3, stratify = y)\n",
    "print(f\"X_train.shape = {X_train.shape}\\ny_train.shape = {y_train.shape}\")\n",
    "print(f\"\\nX_test.shape = {X_test.shape}\\ny_test.shape = {y_test.shape}\")"
   ]
  },
  {
   "cell_type": "code",
   "execution_count": 19,
   "metadata": {
    "colab": {
     "base_uri": "https://localhost:8080/"
    },
    "executionInfo": {
     "elapsed": 11,
     "status": "ok",
     "timestamp": 1681703379771,
     "user": {
      "displayName": "Naveen Srinivas",
      "userId": "05804132684911048399"
     },
     "user_tz": -330
    },
    "id": "nBplhh7N49rs",
    "outputId": "b224e606-a5c4-4221-b4b6-611f06333d38"
   },
   "outputs": [
    {
     "name": "stdout",
     "output_type": "stream",
     "text": [
      "Traing +ve/-ve split: \n",
      "1    48060\n",
      "0    48060\n",
      "Name: label, dtype: int64\n",
      "\n",
      "Testing +ve/-ve split: \n",
      "1    5340\n",
      "0    5340\n",
      "Name: label, dtype: int64\n"
     ]
    }
   ],
   "source": [
    "# What stratify does is it makes splits of equal frequency.\n",
    "print(f\"Traing +ve/-ve split: \\n{y_train.value_counts()}\")\n",
    "print()\n",
    "print(f\"Testing +ve/-ve split: \\n{y_test.value_counts()}\")"
   ]
  },
  {
   "cell_type": "markdown",
   "metadata": {
    "id": "MGZz59h0B622"
   },
   "source": [
    "# Confusion Matrix"
   ]
  },
  {
   "cell_type": "code",
   "execution_count": 20,
   "metadata": {
    "id": "sZSIe1XckrOf"
   },
   "outputs": [],
   "source": [
    "def print_confusion_matrix(y_test, y_prediction):\n",
    "  cm = confusion_matrix(y_test, y_prediction)\n",
    "  plt.figure(figsize=(5,5))\n",
    "  sns.heatmap(cm, annot=True, fmt=\".3f\", linewidths=.5, square = True, cmap = 'Blues')\n",
    "  plt.ylabel('Actual label')\n",
    "  plt.xlabel('Predicted label')\n",
    "  plt.show()\n",
    "  print()"
   ]
  },
  {
   "cell_type": "code",
   "execution_count": 21,
   "metadata": {
    "id": "e9u_wfeMJA18"
   },
   "outputs": [],
   "source": [
    "def print_roc_curve(y_test, y_prediction):\n",
    "  fpr, tpr, thresholds = roc_curve(y_test, y_prediction)\n",
    "  plt.figure(figsize=(5,5))\n",
    "  plt.plot(fpr, tpr)\n",
    "  plt.xlabel('False Positive Rate')\n",
    "  plt.ylabel('True Positive Rate')\n",
    "  plt.show()\n",
    "  print()"
   ]
  },
  {
   "cell_type": "markdown",
   "metadata": {
    "id": "vIMUWvsTk03m"
   },
   "source": [
    "# Logistic Regression"
   ]
  },
  {
   "cell_type": "code",
   "execution_count": 22,
   "metadata": {
    "colab": {
     "base_uri": "https://localhost:8080/",
     "height": 1000
    },
    "executionInfo": {
     "elapsed": 4469,
     "status": "ok",
     "timestamp": 1681553580606,
     "user": {
      "displayName": "Naveen Srinivas",
      "userId": "05804132684911048399"
     },
     "user_tz": -330
    },
    "id": "uPRCmLL9k235",
    "outputId": "e6d29028-488b-448d-ccba-f27c2a73f667"
   },
   "outputs": [
    {
     "name": "stdout",
     "output_type": "stream",
     "text": [
      "              precision    recall  f1-score   support\n",
      "\n",
      "           0       0.93      0.67      0.78      5340\n",
      "           1       0.74      0.95      0.84      5340\n",
      "\n",
      "    accuracy                           0.81     10680\n",
      "   macro avg       0.84      0.81      0.81     10680\n",
      "weighted avg       0.84      0.81      0.81     10680\n",
      "\n"
     ]
    },
    {
     "data": {
      "image/png": "[encoded data removed]",
      "text/plain": [
       "<Figure size 500x500 with 2 Axes>"
      ]
     },
     "metadata": {},
     "output_type": "display_data"
    },
    {
     "name": "stdout",
     "output_type": "stream",
     "text": [
      "\n"
     ]
    },
    {
     "data": {
      "image/png": "[encoded data removed]",
      "text/plain": [
       "<Figure size 500x500 with 1 Axes>"
      ]
     },
     "metadata": {},
     "output_type": "display_data"
    },
    {
     "name": "stdout",
     "output_type": "stream",
     "text": [
      "\n"
     ]
    }
   ],
   "source": [
    "logistic_regression = LogisticRegression(random_state = 0, max_iter = 10000)\n",
    "logistic_regression = logistic_regression.fit(X_train, y_train)\n",
    "y_prediction = logistic_regression.predict(X_test)\n",
    "\n",
    "print(classification_report(y_test, y_prediction))\n",
    "print_confusion_matrix(y_test, y_prediction)\n",
    "print_roc_curve(y_test, y_prediction)"
   ]
  },
  {
   "cell_type": "markdown",
   "metadata": {
    "id": "9oov8UKLl71s"
   },
   "source": [
    "# Naive Bayes"
   ]
  },
  {
   "cell_type": "code",
   "execution_count": 23,
   "metadata": {
    "colab": {
     "base_uri": "https://localhost:8080/",
     "height": 1000
    },
    "executionInfo": {
     "elapsed": 799,
     "status": "ok",
     "timestamp": 1681553581390,
     "user": {
      "displayName": "Naveen Srinivas",
      "userId": "05804132684911048399"
     },
     "user_tz": -330
    },
    "id": "QeGL63K6l9QR",
    "outputId": "3f70b7d0-1228-4547-9583-1f4b5a988941"
   },
   "outputs": [
    {
     "name": "stdout",
     "output_type": "stream",
     "text": [
      "              precision    recall  f1-score   support\n",
      "\n",
      "           0       0.99      0.54      0.70      5340\n",
      "           1       0.68      0.99      0.81      5340\n",
      "\n",
      "    accuracy                           0.77     10680\n",
      "   macro avg       0.84      0.77      0.76     10680\n",
      "weighted avg       0.84      0.77      0.76     10680\n",
      "\n"
     ]
    },
    {
     "data": {
      "image/png": "[encoded data removed]",
      "text/plain": [
       "<Figure size 500x500 with 2 Axes>"
      ]
     },
     "metadata": {},
     "output_type": "display_data"
    },
    {
     "name": "stdout",
     "output_type": "stream",
     "text": [
      "\n"
     ]
    },
    {
     "data": {
      "image/png": "[encoded data removed]",
      "text/plain": [
       "<Figure size 500x500 with 1 Axes>"
      ]
     },
     "metadata": {},
     "output_type": "display_data"
    },
    {
     "name": "stdout",
     "output_type": "stream",
     "text": [
      "\n"
     ]
    }
   ],
   "source": [
    "naive_bayes = GaussianNB()\n",
    "naive_bayes = naive_bayes.fit(X_train, y_train)\n",
    "y_prediction = naive_bayes.predict(X_test)\n",
    "\n",
    "print(classification_report(y_test, y_prediction))\n",
    "print_confusion_matrix(y_test, y_prediction)\n",
    "print_roc_curve(y_test, y_prediction)"
   ]
  },
  {
   "cell_type": "markdown",
   "metadata": {
    "id": "tZv1sYIEmKvS"
   },
   "source": [
    "# Decision Tree"
   ]
  },
  {
   "cell_type": "code",
   "execution_count": 24,
   "metadata": {
    "colab": {
     "base_uri": "https://localhost:8080/",
     "height": 1000
    },
    "executionInfo": {
     "elapsed": 1563,
     "status": "ok",
     "timestamp": 1681553582948,
     "user": {
      "displayName": "Naveen Srinivas",
      "userId": "05804132684911048399"
     },
     "user_tz": -330
    },
    "id": "LIFm5CTImN8T",
    "outputId": "bf5a798d-9d44-4531-d01d-b16723aac75f"
   },
   "outputs": [
    {
     "name": "stdout",
     "output_type": "stream",
     "text": [
      "              precision    recall  f1-score   support\n",
      "\n",
      "           0       1.00      0.90      0.94      5340\n",
      "           1       0.91      1.00      0.95      5340\n",
      "\n",
      "    accuracy                           0.95     10680\n",
      "   macro avg       0.95      0.95      0.95     10680\n",
      "weighted avg       0.95      0.95      0.95     10680\n",
      "\n"
     ]
    },
    {
     "data": {
      "image/png": "[encoded data removed]",
      "text/plain": [
       "<Figure size 500x500 with 2 Axes>"
      ]
     },
     "metadata": {},
     "output_type": "display_data"
    },
    {
     "name": "stdout",
     "output_type": "stream",
     "text": [
      "\n"
     ]
    },
    {
     "data": {
      "image/png": "[encoded data removed]",
      "text/plain": [
       "<Figure size 500x500 with 1 Axes>"
      ]
     },
     "metadata": {},
     "output_type": "display_data"
    },
    {
     "name": "stdout",
     "output_type": "stream",
     "text": [
      "\n"
     ]
    }
   ],
   "source": [
    "decision_tree = tree.DecisionTreeClassifier()\n",
    "decision_tree = decision_tree.fit(X_train, y_train)\n",
    "y_prediction = decision_tree.predict(X_test)\n",
    "\n",
    "print(classification_report(y_test, y_prediction))\n",
    "print_confusion_matrix(y_test, y_prediction)\n",
    "print_roc_curve(y_test, y_prediction)"
   ]
  },
  {
   "cell_type": "markdown",
   "metadata": {
    "id": "zMaZVS1YmZMu"
   },
   "source": [
    "# Random Forest"
   ]
  },
  {
   "cell_type": "code",
   "execution_count": 25,
   "metadata": {
    "colab": {
     "base_uri": "https://localhost:8080/",
     "height": 1000
    },
    "executionInfo": {
     "elapsed": 4076,
     "status": "ok",
     "timestamp": 1681553587017,
     "user": {
      "displayName": "Naveen Srinivas",
      "userId": "05804132684911048399"
     },
     "user_tz": -330
    },
    "id": "80Kcpm3pma0F",
    "outputId": "5a9d47a5-904b-4140-b676-40c16be00339"
   },
   "outputs": [
    {
     "name": "stdout",
     "output_type": "stream",
     "text": [
      "              precision    recall  f1-score   support\n",
      "\n",
      "           0       1.00      0.89      0.94      5340\n",
      "           1       0.90      1.00      0.95      5340\n",
      "\n",
      "    accuracy                           0.95     10680\n",
      "   macro avg       0.95      0.95      0.95     10680\n",
      "weighted avg       0.95      0.95      0.95     10680\n",
      "\n"
     ]
    },
    {
     "data": {
      "image/png": "[encoded data removed]",
      "text/plain": [
       "<Figure size 500x500 with 2 Axes>"
      ]
     },
     "metadata": {},
     "output_type": "display_data"
    },
    {
     "name": "stdout",
     "output_type": "stream",
     "text": [
      "\n"
     ]
    },
    {
     "data": {
      "image/png": "[encoded data removed]",
      "text/plain": [
       "<Figure size 500x500 with 1 Axes>"
      ]
     },
     "metadata": {},
     "output_type": "display_data"
    },
    {
     "name": "stdout",
     "output_type": "stream",
     "text": [
      "\n"
     ]
    }
   ],
   "source": [
    "random_forest = RandomForestClassifier(n_estimators=10)\n",
    "random_forest = random_forest.fit(X_train, y_train)\n",
    "y_prediction = random_forest.predict(X_test)\n",
    "\n",
    "print(classification_report(y_test, y_prediction))\n",
    "print_confusion_matrix(y_test, y_prediction)\n",
    "print_roc_curve(y_test, y_prediction)"
   ]
  },
  {
   "cell_type": "markdown",
   "metadata": {
    "id": "1XKrphBZ5ScO"
   },
   "source": [
    "# XGBoost"
   ]
  },
  {
   "cell_type": "code",
   "execution_count": 26,
   "metadata": {
    "colab": {
     "base_uri": "https://localhost:8080/",
     "height": 1000
    },
    "executionInfo": {
     "elapsed": 7834,
     "status": "ok",
     "timestamp": 1681553594843,
     "user": {
      "displayName": "Naveen Srinivas",
      "userId": "05804132684911048399"
     },
     "user_tz": -330
    },
    "id": "RfjFBCP65Uns",
    "outputId": "10a30084-bec3-4eb5-8bc5-ff7a48921b66"
   },
   "outputs": [
    {
     "name": "stdout",
     "output_type": "stream",
     "text": [
      "              precision    recall  f1-score   support\n",
      "\n",
      "           0       0.90      0.72      0.80      5340\n",
      "           1       0.77      0.92      0.84      5340\n",
      "\n",
      "    accuracy                           0.82     10680\n",
      "   macro avg       0.84      0.82      0.82     10680\n",
      "weighted avg       0.84      0.82      0.82     10680\n",
      "\n"
     ]
    },
    {
     "data": {
      "image/png": "[encoded data removed]",
      "text/plain": [
       "<Figure size 500x500 with 2 Axes>"
      ]
     },
     "metadata": {},
     "output_type": "display_data"
    },
    {
     "name": "stdout",
     "output_type": "stream",
     "text": [
      "\n"
     ]
    },
    {
     "data": {
      "image/png": "[encoded data removed]",
      "text/plain": [
       "<Figure size 500x500 with 1 Axes>"
      ]
     },
     "metadata": {},
     "output_type": "display_data"
    },
    {
     "name": "stdout",
     "output_type": "stream",
     "text": [
      "\n"
     ]
    }
   ],
   "source": [
    "gradient_boost = GradientBoostingClassifier(n_estimators = 100, \n",
    "                                            learning_rate = 1.0,\n",
    "                                            max_depth = 1, \n",
    "                                            random_state=0)\n",
    "gradient_boost = gradient_boost.fit(X_train, y_train)\n",
    "y_prediction = gradient_boost.predict(X_test)\n",
    "\n",
    "print(classification_report(y_test, y_prediction))\n",
    "print_confusion_matrix(y_test, y_prediction)\n",
    "print_roc_curve(y_test, y_prediction)"
   ]
  }
 ],
 "metadata": {
  "colab": {
   "authorship_tag": "ABX9TyN1AOHsAM9a+DmUhAcf9vIm",
   "mount_file_id": "1Q6VRZbfw5hzK1iEIWSkN2fUT-roxcts8",
   "provenance": []
  },
  "kernelspec": {
   "display_name": "Python 3 (ipykernel)",
   "language": "python",
   "name": "python3"
  },
  "language_info": {
   "codemirror_mode": {
    "name": "ipython",
    "version": 3
   },
   "file_extension": ".py",
   "mimetype": "text/x-python",
   "name": "python",
   "nbconvert_exporter": "python",
   "pygments_lexer": "ipython3",
   "version": "3.10.9"
  }
 },
 "nbformat": 4,
 "nbformat_minor": 1
}
