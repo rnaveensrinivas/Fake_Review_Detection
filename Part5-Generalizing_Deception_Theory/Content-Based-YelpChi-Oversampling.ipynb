{
 "cells": [
  {
   "cell_type": "markdown",
   "metadata": {
    "id": "hHJhj8CXk4Zu"
   },
   "source": [
    "# Libraries"
   ]
  },
  {
   "cell_type": "code",
   "execution_count": null,
   "metadata": {
    "colab": {
     "base_uri": "https://localhost:8080/"
    },
    "id": "HD1XB3zNPqc9",
    "outputId": "ec607522-deb1-4aed-c105-64ded8ede472"
   },
   "outputs": [
    {
     "name": "stdout",
     "output_type": "stream",
     "text": [
      "Mounted at /content/drive\n"
     ]
    }
   ],
   "source": [
    "from google.colab import drive\n",
    "drive.mount('/content/drive')"
   ]
  },
  {
   "cell_type": "code",
   "execution_count": null,
   "metadata": {
    "colab": {
     "base_uri": "https://localhost:8080/"
    },
    "id": "57OJWUwkk3pq",
    "outputId": "49449e43-ac36-44af-e927-69570f264e53"
   },
   "outputs": [
    {
     "name": "stderr",
     "output_type": "stream",
     "text": [
      "[nltk_data] Downloading package punkt to /root/nltk_data...\n",
      "[nltk_data]   Package punkt is already up-to-date!\n"
     ]
    },
    {
     "name": "stdout",
     "output_type": "stream",
     "text": [
      "Looking in indexes: https://pypi.org/simple, https://us-python.pkg.dev/colab-wheels/public/simple/\n",
      "Requirement already satisfied: pyspellchecker in /usr/local/lib/python3.9/dist-packages (0.7.1)\n"
     ]
    }
   ],
   "source": [
    "import pandas as pd   # for importing dataset.\n",
    "import shutil         # for saving the files.\n",
    "import numpy as np    # for feature 1\n",
    "import spacy          # for feature 3\n",
    "from textblob import TextBlob # for feature 12\n",
    "import nltk           # for feature 16\n",
    "nltk.download('punkt')\n",
    "from nltk.tokenize import sent_tokenize, word_tokenize \n",
    "!pip install pyspellchecker # for feature 19\n",
    "from spellchecker import SpellChecker  "
   ]
  },
  {
   "cell_type": "markdown",
   "metadata": {
    "id": "bgxmd3QYkvfK"
   },
   "source": [
    "# Importing Dataset\n"
   ]
  },
  {
   "cell_type": "code",
   "execution_count": null,
   "metadata": {
    "colab": {
     "base_uri": "https://localhost:8080/"
    },
    "id": "VK54SC3skzEI",
    "outputId": "4e45315c-e84f-4292-f9c6-d0b3aae9a100"
   },
   "outputs": [
    {
     "name": "stdout",
     "output_type": "stream",
     "text": [
      "        date             reviewer_id              product_id label  \\\n",
      "0   6/8/2011  IFTr6_6NI4CgCVavIL9k5g  tQfLGoolUMu2J0igcWcoZg     N   \n",
      "1  8/30/2011  c_-hF15XgNhlyy_TqzmdaA  tQfLGoolUMu2J0igcWcoZg     N   \n",
      "2  6/26/2009  CiwZ6S5ZizAFL5gypf8tLA  tQfLGoolUMu2J0igcWcoZg     N   \n",
      "3  9/16/2010  nf3q2h-kSQoZK2jBY92FOg  tQfLGoolUMu2J0igcWcoZg     N   \n",
      "4   2/5/2010  Sb3DJGdZ4Rq__CqxPbae-g  tQfLGoolUMu2J0igcWcoZg     N   \n",
      "\n",
      "   star_rating                                        review_text  \n",
      "0            5  Let me begin by saying that there are two kind...  \n",
      "1            3  The only place inside the Loop that you can st...  \n",
      "2            5  I have walked by the Tokyo Hotel countless tim...  \n",
      "3            1  If you are considering staying here, watch thi...  \n",
      "4            3  This place is disgusting, absolutely horrible,...  \n",
      "\n",
      "----\n",
      "\n",
      "  perceptual_processes        time     space personal_pronoun  \\\n",
      "0                acid*     abrupt*     above              hed   \n",
      "1               acrid*       after    across             he'd   \n",
      "2               aroma*  afterlife*       air              her   \n",
      "3              audibl*  aftermath*    among*             hers   \n",
      "4               audio*  afternoon*  anywhere          herself   \n",
      "\n",
      "  first_person_singular first_person_plural third_person_singular  \\\n",
      "0                     i                lets                    he   \n",
      "1                    Id               let's                   hed   \n",
      "2                   I'd                 our                  he'd   \n",
      "3                  I'll                ours                   her   \n",
      "4                    Im           ourselves                  hers   \n",
      "\n",
      "  third_person_plural negations affective_processes positive_emotions  \\\n",
      "0              their*      aint            abandon*            accept   \n",
      "1                them     ain't              abuse*          accepta*   \n",
      "2          themselves     arent              abusi*          accepted   \n",
      "3                they    aren't              accept         accepting   \n",
      "4               theyd    cannot            accepta*           accepts   \n",
      "\n",
      "  negative_emotions   certainty tentative  \n",
      "0          abandon*    absolute     allot  \n",
      "1            abuse*  absolutely    almost  \n",
      "2            abusi*     accura*      alot  \n",
      "3             ache*         all   ambigu*  \n",
      "4            aching  altogether       any  \n"
     ]
    }
   ],
   "source": [
    "dataset = pd.read_csv(\"/content/drive/MyDrive/Project/dataset.csv\")\n",
    "liwc_dictionary = pd.read_csv(\"/content/drive/MyDrive/Project/LIWC_dictionary.csv\")\n",
    "print(dataset.head(5))\n",
    "print(\"\\n----\\n\")\n",
    "print(liwc_dictionary.head(5))"
   ]
  },
  {
   "cell_type": "markdown",
   "metadata": {
    "id": "ipDeiUrtAToX"
   },
   "source": [
    "# Descriptive Statistics of dataset"
   ]
  },
  {
   "cell_type": "code",
   "execution_count": null,
   "metadata": {
    "colab": {
     "base_uri": "https://localhost:8080/"
    },
    "id": "Cvei2ZAQAS4t",
    "outputId": "3d1da866-616a-4bb2-ebfa-40780750807a"
   },
   "outputs": [
    {
     "name": "stdout",
     "output_type": "stream",
     "text": [
      "Total Number of Reviews: 67395\n",
      "Number of Real Reviews: 58476\n",
      "Number of Fake Reviews: 8919\n",
      "Percentage of fake reviews: 13.23%\n",
      "\n",
      "Total Number of Reviewers: 38198\n",
      "Percentage of spam reviewers: 20.26%\n",
      "\n",
      "Mean length of a fake review: 102.406\n",
      "Mean length of a real review: 144.456\n",
      "\n",
      "Mean number of reviews posted by fake reviewer: 1.152\n",
      "Mean number of reviews posted by fake reviewer: 1.920\n",
      "\n",
      "Percentage of extreme ratings (1 or 5) in fake reviews: 56.67%\n",
      "Percentage of extreme ratings (1 or 5) in real reviews: 40.77%\n"
     ]
    }
   ],
   "source": [
    "fake_review_count = 0\n",
    "real_review_count = 0\n",
    "fake_review_word_count_sum = 0\n",
    "real_review_word_count_sum = 0\n",
    "real_reviewers = {}\n",
    "fake_reviewers = {}\n",
    "fake_review_extreme_rating_count = 0\n",
    "real_review_extreme_rating_count = 0\n",
    "\n",
    "for i in range(len(dataset)):\n",
    "\n",
    "  if dataset.loc[i,\"label\"] == 'Y': # fake review\n",
    "\n",
    "    fake_review_count += 1 \n",
    "\n",
    "    fake_review_word_count_sum += len(str(dataset.loc[i,\"review_text\"]).split())\n",
    "\n",
    "    if dataset.loc[i,'reviewer_id'] not in fake_reviewers:\n",
    "      fake_reviewers[dataset.loc[i,'reviewer_id']] = 1\n",
    "    else:\n",
    "      fake_reviewers[dataset.loc[i,'reviewer_id']] += 1\n",
    "    \n",
    "    if dataset.loc[i,'star_rating'] in {1,5}:\n",
    "      fake_review_extreme_rating_count += 1\n",
    "\n",
    "\n",
    "  else: # real review\n",
    "\n",
    "    real_review_count += 1 \n",
    "\n",
    "    real_review_word_count_sum += len(str(dataset.loc[i,\"review_text\"]).split())\n",
    "\n",
    "    if dataset.loc[i,'reviewer_id'] not in real_reviewers:\n",
    "      real_reviewers[dataset.loc[i,'reviewer_id']] = 1\n",
    "    else:\n",
    "      real_reviewers[dataset.loc[i,'reviewer_id']] += 1\n",
    "    \n",
    "    if dataset.loc[i,'star_rating'] in {1,5}:\n",
    "      real_review_extreme_rating_count += 1\n",
    "\n",
    "print(f\"Total Number of Reviews: {fake_review_count + real_review_count}\")\n",
    "print(f\"Number of Real Reviews: {real_review_count}\")\n",
    "print(f\"Number of Fake Reviews: {fake_review_count}\")\n",
    "print(f\"Percentage of fake reviews: {'{:.2f}'.format(fake_review_count / (fake_review_count + real_review_count) * 100)}%\")\n",
    "\n",
    "print(f\"\\nTotal Number of Reviewers: {len(fake_reviewers) + len(real_reviewers)}\")\n",
    "print(f\"Percentage of spam reviewers: {'{:.2f}'.format(len(fake_reviewers) / (len(fake_reviewers) + len(real_reviewers)) * 100)}%\")\n",
    "\n",
    "print(f\"\\nMean length of a fake review: {'{:.3f}'.format(fake_review_word_count_sum / fake_review_count)}\")\n",
    "print(f\"Mean length of a real review: {'{:.3f}'.format(real_review_word_count_sum / real_review_count)}\")\n",
    "\n",
    "print(f\"\\nMean number of reviews posted by fake reviewer: {'{:.3f}'.format(fake_review_count / len(fake_reviewers))}\")\n",
    "print(f\"Mean number of reviews posted by fake reviewer: {'{:.3f}'.format(real_review_count / len(real_reviewers))}\")\n",
    "\n",
    "print(f\"\\nPercentage of extreme ratings (1 or 5) in fake reviews: {'{:.2f}'.format(fake_review_extreme_rating_count / fake_review_count * 100)}%\")\n",
    "print(f\"Percentage of extreme ratings (1 or 5) in real reviews: {'{:.2f}'.format(real_review_extreme_rating_count / real_review_count * 100)}%\")"
   ]
  },
  {
   "cell_type": "markdown",
   "metadata": {
    "id": "TDpzS79EnZg-"
   },
   "source": [
    "# Preprocessing: Changing Labels\n"
   ]
  },
  {
   "cell_type": "code",
   "execution_count": null,
   "metadata": {
    "id": "lHLEq0uslW13"
   },
   "outputs": [],
   "source": [
    "# Changing the labels from Y-N to 1-0.\n",
    "fake_review_count = 0\n",
    "real_review_count = 0\n",
    "\n",
    "print(\"Progress...\")\n",
    "for i in range(len(dataset)):\n",
    "  if dataset.loc[i,\"label\"] == 'N':   # real review\n",
    "    dataset.loc[i,\"label\"] = 0     \n",
    "    real_review_count += 1\n",
    "  else:   \n",
    "    dataset.loc[i,\"label\"] = 1\n",
    "    fake_review_count += 1\n",
    "  \n",
    "  if i % 5000 == 0 and i != 0:\n",
    "    print(f\"{i}\\t rows complete\")\n",
    "print(\"----------------------\")\n",
    "\n",
    "print(f\"Fake review Count = {fake_review_count}\")\n",
    "print(f\"Real review Count = {real_review_count}\")\n",
    "print(f\"Total review Count = {real_review_count + fake_review_count}\")\n",
    "print(\"\\n\\n\")\n",
    "\n",
    "print(dataset.head(5))"
   ]
  },
  {
   "cell_type": "markdown",
   "metadata": {
    "id": "XL33T34FoalJ"
   },
   "source": [
    "# Preprocessing: Lower Case"
   ]
  },
  {
   "cell_type": "code",
   "execution_count": null,
   "metadata": {
    "id": "Y12cAEwUnYui"
   },
   "outputs": [],
   "source": [
    "# LIWC requires the words to be in lowercase.\n",
    "dataset[\"lower_case_review_text\"] = dataset[\"review_text\"].str.lower()\n",
    "print(dataset.head(5))"
   ]
  },
  {
   "cell_type": "markdown",
   "metadata": {
    "id": "bzDZKwMbqIkE"
   },
   "source": [
    "# Preprocessing: Punctuation Removal"
   ]
  },
  {
   "cell_type": "code",
   "execution_count": null,
   "metadata": {
    "id": "vAki03FBokmL"
   },
   "outputs": [],
   "source": [
    "# The only allowed puntucation for LIWC is \\'\n",
    "punctuations = '!\"#$%&()*+,-./:;<=>?@[\\\\]^_`{|}~'  \n",
    "dataset[\"lower_case_review_text\"] = dataset[\n",
    "    \"lower_case_review_text\"].str.replace(\"[{}]\".format(punctuations), \"\", regex = True)\n",
    "print(dataset.head(5))"
   ]
  },
  {
   "cell_type": "markdown",
   "metadata": {
    "id": "f88NktHjrM_7"
   },
   "source": [
    "# Preprocessing: Cardinality & Word Count"
   ]
  },
  {
   "cell_type": "code",
   "execution_count": null,
   "metadata": {
    "id": "xjfAh01mqhI5"
   },
   "outputs": [],
   "source": [
    "# The mathematical representation given in paper are all set operations.\n",
    "# Word count is the most used attribute, hence having it cached.\n",
    "\n",
    "print(\"Progress...\")\n",
    "for i in range(len(dataset)): \n",
    "  words = set(str(dataset.loc[i,\"lower_case_review_text\"]).split())\n",
    "  dataset.loc[i,\"lower_case_review_text\"] = ' '.join(words) # cardinality \n",
    "  dataset.loc[i,\"review_text_word_count\"] = len(words)      # word count\n",
    "\n",
    "  if i % 5000 == 0 and i != 0:\n",
    "    print(f\"{i}\\t rows complete\")\n",
    "print(\"----------------------\")\n",
    "\n",
    "print(dataset.head(5))"
   ]
  },
  {
   "cell_type": "markdown",
   "metadata": {
    "id": "R_W5CVJRuerA"
   },
   "source": [
    "# Saving Processed dataset"
   ]
  },
  {
   "cell_type": "code",
   "execution_count": null,
   "metadata": {
    "id": "AGzZICUXtUtN"
   },
   "outputs": [],
   "source": [
    "dataset.to_csv(\"processed_dataset.csv\", index = False, encoding = \"utf-8\")\n",
    "shutil.copy(\"processed_dataset.csv\", \"/content/drive/MyDrive/Project\")"
   ]
  },
  {
   "cell_type": "markdown",
   "metadata": {
    "id": "X_40hAacRobj"
   },
   "source": [
    "# Loading Files"
   ]
  },
  {
   "cell_type": "code",
   "execution_count": null,
   "metadata": {
    "id": "xp5fHqLf1QUT"
   },
   "outputs": [],
   "source": [
    "processed_dataset = pd.read_csv(\"/content/drive/MyDrive/Project/processed_dataset.csv\")\n",
    "features_extraction = pd.read_csv(\"/content/drive/MyDrive/Project/features.csv\")\n",
    "# \"feature_extraction\" file will have 67395 rows with all entries 0. \n",
    "# Due to the fact that creating a cell take longer than updating it.\n",
    "\n",
    "print(processed_dataset.head(5))\n",
    "print(\"\\n----\\n\")\n",
    "print(features_extraction.head(5))"
   ]
  },
  {
   "cell_type": "markdown",
   "metadata": {
    "id": "dn9L2Bp48a3h"
   },
   "source": [
    "# LIWC function"
   ]
  },
  {
   "cell_type": "code",
   "execution_count": null,
   "metadata": {
    "id": "fVHMkSx28djP"
   },
   "outputs": [],
   "source": [
    "def get_LIWC_dictionary_words(categories):\n",
    "  \"\"\"\n",
    "  Input:-   Categories - a list of categories, whose words are needed.\n",
    "  Output:-  actual - a set of exact words\n",
    "            regex - a list of regular expressions without trailing '*'\n",
    "  Algorithm:- \n",
    "\n",
    "  actual = set()\n",
    "  regex = []\n",
    "\n",
    "  For each row in LIWC_Dictionary\n",
    "    For each category in LIWC_Dictionary\n",
    "      word = LIWC_Dictionary[row][category] \n",
    "      if word is regular expression:\n",
    "        regex.append(word)\n",
    "      else\n",
    "        actual.add(word)\n",
    "  \n",
    "  return actual, regex\n",
    "  \"\"\"\n",
    "  liwc_dictionary = pd.read_csv(\"/content/drive/MyDrive/Project/LIWC_dictionary.csv\")\n",
    "\n",
    "  actual = set()\n",
    "  regex = []\n",
    "\n",
    "  for i in range(len(liwc_dictionary)):\n",
    "    for category in categories:\n",
    "      word = str(liwc_dictionary.loc[i, category])  #str() for detecting \"nan\"\n",
    "      if word != \"nan\":\n",
    "        if word[-1] == \"*\":\n",
    "          regex.append(word[:-1])\n",
    "        else:\n",
    "          actual.add(word)\n",
    "          \n",
    "  return actual, regex"
   ]
  },
  {
   "cell_type": "markdown",
   "metadata": {
    "id": "WPsMfk-sx7DG"
   },
   "source": [
    "# Feature 1: Generalization Terms Usage"
   ]
  },
  {
   "cell_type": "code",
   "execution_count": null,
   "metadata": {
    "id": "TFS_pDxTvD4a"
   },
   "outputs": [],
   "source": [
    "# List of nineteen absolutist words provided by M. Al-Mosaiwi et al.[196]\n",
    "# storing the words in a set, which offers O(1) access time.\n",
    "\n",
    "generalization_terms = {'absolutely', 'all', 'always', 'complete', \n",
    "                        'completely', 'constant',  'constantly', 'definitely', \n",
    "                        'entire', 'ever', 'every', 'everyone', 'everything', \n",
    "                        'full', 'must', 'never', 'nothing', 'totally', 'whole'}\n",
    "\n",
    "print(\"Progress...\")\n",
    "for i in range(len(processed_dataset)):\n",
    "  count = 0\n",
    "  words = str(processed_dataset.loc[i,\"lower_case_review_text\"]).split()\n",
    "  for word in words: \n",
    "    if word in generalization_terms:\n",
    "      count += 1\n",
    "    \n",
    "  if processed_dataset.loc[i,\"review_text_word_count\"] == 0:\n",
    "    features_extraction.loc[i,'f01_generalization_terms_usage'] = 0\n",
    "  else:\n",
    "    features_extraction.loc[i,'f01_generalization_terms_usage'] = count / processed_dataset.loc[i,'review_text_word_count']\n",
    "\n",
    "  if i % 5000 == 0 and i != 0:\n",
    "    print(f\"{i}\\t rows complete\")\n",
    "print(\"----------------------\")\n",
    "print(\"\\n\\n\")\n",
    "print(features_extraction.head(5))"
   ]
  },
  {
   "cell_type": "markdown",
   "metadata": {
    "id": "-dJshwp-8DwM"
   },
   "source": [
    "# Feature 2: Richness of detials"
   ]
  },
  {
   "cell_type": "code",
   "execution_count": null,
   "metadata": {
    "id": "ILefPwRH42Va"
   },
   "outputs": [],
   "source": [
    "categories = [\"time\", \"space\", \"perceptual_processes\"]\n",
    "actual, regex = get_LIWC_dictionary_words(categories)\n",
    "\n",
    "print(\"Progress...\")\n",
    "for i in range(len(processed_dataset)):\n",
    "  count = 0\n",
    "  words = str(processed_dataset.loc[i,\"lower_case_review_text\"]).split()\n",
    "  for word in words: \n",
    "    if word in actual:\n",
    "      count += 1\n",
    "    else:\n",
    "      for re in regex:\n",
    "        if word[:len(re)] == re:\n",
    "          count += 1\n",
    "          break\n",
    "\n",
    "  if processed_dataset.loc[i,\"review_text_word_count\"] == 0:\n",
    "    features_extraction.loc[i,'f02_richness_of_details'] = 0\n",
    "  else:\n",
    "    features_extraction.loc[i,'f02_richness_of_details'] = count / processed_dataset.loc[i,'review_text_word_count']\n",
    "\n",
    "  if i % 5000 == 0 and i != 0:\n",
    "    print(f\"{i}\\t rows complete\")\n",
    "print(\"----------------------\")\n",
    "print(\"\\n\\n\")\n",
    "print(features_extraction.head(5))"
   ]
  },
  {
   "cell_type": "markdown",
   "metadata": {
    "id": "4OBv6y0KEEMo"
   },
   "source": [
    "# Feature 3: Richness of verifiable details"
   ]
  },
  {
   "cell_type": "code",
   "execution_count": null,
   "metadata": {
    "id": "g4Ht46FYEVR8"
   },
   "outputs": [],
   "source": [
    "NER = spacy.load(\"en_core_web_sm\") \n",
    "\n",
    "categories = [\"time\", \"space\", \"perceptual_processes\"]\n",
    "actual, regex = get_LIWC_dictionary_words(categories)\n",
    "\n",
    "print(\"Progress...\")\n",
    "for i in range(len(processed_dataset)):\n",
    "\n",
    "  unverifiable_count = 0\n",
    "  words = str(processed_dataset.loc[i,\"lower_case_review_text\"]).split()\n",
    "  for word in words: \n",
    "    if word in actual:\n",
    "      unverifiable_count += 1\n",
    "    else:\n",
    "      for re in regex:\n",
    "        if word[:len(re)] == re:\n",
    "          unverifiable_count += 1\n",
    "          break\n",
    "\n",
    "  verifiable_count = 0  \n",
    "  text = NER(processed_dataset.loc[i,\"review_text\"])\n",
    "\n",
    "  verifiable_count = len(text.ents)\n",
    "\n",
    "  if verifiable_count != 0 and unverifiable_count != 0:\n",
    "    result = verifiable_count / (unverifiable_count + verifiable_count)\n",
    "  elif unverifiable_count == 0 and verifiable_count != 0:\n",
    "    result = 1\n",
    "  else:\n",
    "    result = 0\n",
    "\n",
    "  features_extraction.loc[i,\"f03_richness_of_verifiable_details\"] = result\n",
    "\n",
    "  if i % 5000 == 0 and i != 0:\n",
    "      print(f\"{i}\\t rows complete\")\n",
    "print(\"----------------------\")\n",
    "\n",
    "print(features_extraction.head(5))"
   ]
  },
  {
   "cell_type": "markdown",
   "metadata": {
    "id": "kvzOI99KN7Fm"
   },
   "source": [
    "# Feature 4: Length of the review"
   ]
  },
  {
   "cell_type": "code",
   "execution_count": null,
   "metadata": {
    "id": "Mg0GCKn1OArd"
   },
   "outputs": [],
   "source": [
    "features_extraction[\"f04_length_of_the_review\"] = processed_dataset['review_text_word_count']\n",
    "print(features_extraction.head(5))"
   ]
  },
  {
   "cell_type": "markdown",
   "metadata": {
    "id": "Eka-uJroOsvP"
   },
   "source": [
    "# Feature 5,6,7: Pronouns Usage"
   ]
  },
  {
   "cell_type": "code",
   "execution_count": null,
   "metadata": {
    "id": "cYFfRzqwOxz_"
   },
   "outputs": [],
   "source": [
    "categories = [\"personal_pronoun\"]\n",
    "PP_actual, PP_regex = get_LIWC_dictionary_words(categories)\n",
    "\n",
    "categories = [\"first_person_singular\"]\n",
    "FS_actual, FS_regex = get_LIWC_dictionary_words(categories)\n",
    "\n",
    "categories = [\"first_person_plural\"]\n",
    "FP_actual, FP_regex = get_LIWC_dictionary_words(categories)\n",
    "\n",
    "categories = [\"third_person_singular\", \"third_person_plural\"]\n",
    "TP_actual, TP_regex = get_LIWC_dictionary_words(categories)\n",
    "\n",
    "print(\"Progress...\")\n",
    "for i in range(len(processed_dataset)):\n",
    "  PP_count = 0\n",
    "  FS_count = 0\n",
    "  FP_count = 0\n",
    "  TP_count = 0\n",
    "\n",
    "  words = str(processed_dataset.loc[i,\"lower_case_review_text\"]).split()\n",
    "  for word in words: \n",
    "\n",
    "    if word in PP_actual:\n",
    "      PP_count += 1\n",
    "    else:\n",
    "      for re in PP_regex:\n",
    "        if word[:len(re)] == re:\n",
    "          PP_count += 1\n",
    "          break\n",
    "\n",
    "    if word in FS_actual:\n",
    "      FS_count += 1\n",
    "    else:\n",
    "      for re in FS_regex:\n",
    "        if word[:len(re)] == re:\n",
    "          FS_count += 1\n",
    "          break\n",
    "\n",
    "    if word in FP_actual:\n",
    "      FP_count += 1\n",
    "    else:\n",
    "      for re in FP_regex:\n",
    "        if word[:len(re)] == re:\n",
    "          FP_count += 1\n",
    "          break\n",
    "    \n",
    "    if word in TP_actual:\n",
    "      TP_count += 1\n",
    "    else:\n",
    "      for re in TP_regex:\n",
    "        if word[:len(re)] == re:\n",
    "          TP_count += 1\n",
    "          break\n",
    "\n",
    "  if PP_count == 0: # since PP is the denominator\n",
    "    features_extraction.loc[i,\"f05_first_person_singular_pronouns_usage\"] = 0\n",
    "    features_extraction.loc[i,\"f06_first_person_plural_pronouns_usage\"] = 0\n",
    "    features_extraction.loc[i,\"f07_third_person_pronouns_usage\"] = 0\n",
    "    continue\n",
    "  \n",
    "  if FS_count == 0:\n",
    "    features_extraction.loc[i,\"f05_first_person_singular_pronouns_usage\"] = 0\n",
    "  else:\n",
    "    features_extraction.loc[i,\"f05_first_person_singular_pronouns_usage\"] = FS_count / PP_count\n",
    "      \n",
    "  if FP_count == 0:\n",
    "    features_extraction.loc[i,\"f06_first_person_plural_pronouns_usage\"] = 0\n",
    "  else:\n",
    "    features_extraction.loc[i,\"f06_first_person_plural_pronouns_usage\"] = FP_count / PP_count\n",
    "\n",
    "  if TP_count == 0:\n",
    "    features_extraction.loc[i,\"f07_third_person_pronouns_usage\"] = 0\n",
    "  else:\n",
    "    features_extraction.loc[i,\"f07_third_person_pronouns_usage\"] = TP_count / PP_count\n",
    "\n",
    "  if i % 5000 == 0 and i != 0:\n",
    "    print(f\"{i}\\t rows complete\")\n",
    "print(\"----------------------\")\n",
    "print(\"\\n\\n\")\n",
    "print(features_extraction.head(5))"
   ]
  },
  {
   "cell_type": "markdown",
   "metadata": {
    "id": "qmD7PLfGgmZC"
   },
   "source": [
    "# Feature 8,9: Verbs Usage"
   ]
  },
  {
   "cell_type": "code",
   "execution_count": null,
   "metadata": {
    "id": "DfMGPIcPgmF-"
   },
   "outputs": [],
   "source": [
    "nlp = spacy.load(\"en_core_web_sm\") # spacy model for detecting English words\n",
    "\n",
    "print(\"Progress...\")\n",
    "for i in range(len(processed_dataset)):\n",
    "\n",
    "  verbs_count = 0\n",
    "  present_verbs_count = 0\n",
    "  past_verbs_count = 0\n",
    "\n",
    "  text = processed_dataset.loc[i,\"review_text\"]\n",
    "  \n",
    "  doc = nlp(text)\n",
    "\n",
    "  for token in doc:\n",
    "    if token.pos_ == \"VERB\":\n",
    "      verbs_count += 1\n",
    "      if token.tag_ == \"VBZ\" or token.tag_ == \"VBP\" or token.tag_ ==\"VBG\":\n",
    "        present_verbs_count += 1\n",
    "      elif token.tag_ == \"VBD\":\n",
    "        past_verbs_count += 1\n",
    "\n",
    "  if verbs_count != 0:\n",
    "    features_extraction.loc[i,\"f08_present_tense_verbs_usage\"] = present_verbs_count / verbs_count\n",
    "    features_extraction.loc[i,\"f09_past_tense_verbs_usage\"] = past_verbs_count / verbs_count\n",
    "  else:\n",
    "    features_extraction.loc[i,\"f08_present_tense_verbs_usage\"] = 0\n",
    "    features_extraction.loc[i,\"f09_past_tense_verbs_usage\"] = 0\n",
    "  \n",
    "  if i % 5000 == 0 and i != 0:\n",
    "      print(f\"{i}\\t rows complete\")\n",
    "print(\"----------------------\")\n",
    "\n",
    "print(features_extraction.head(5))"
   ]
  },
  {
   "cell_type": "markdown",
   "metadata": {
    "id": "3NF2wb5UnfFv"
   },
   "source": [
    "# Feature 10: Passive Voice"
   ]
  },
  {
   "cell_type": "code",
   "execution_count": null,
   "metadata": {
    "id": "ODTxaPocnjJ9"
   },
   "outputs": [],
   "source": [
    "nlp = spacy.load(\"en_core_web_sm\")\n",
    "\n",
    "def is_passive(sentence):\n",
    "    doc = nlp(sentence)\n",
    "    for token in doc:\n",
    "        if token.dep_ == \"nsubjpass\" or token.dep_ == \"auxpass\" or token.dep_ == \"csubjpass\":       \n",
    "            return True\n",
    "    return False\n",
    "\n",
    "print(\"Progress...\")\n",
    "for i in range(len(processed_dataset)):\n",
    "  text = processed_dataset.loc[i,\"review_text\"]\n",
    "  doc = nlp(text)\n",
    "\n",
    "  sentence_count = 0\n",
    "  passive_voice_count = 0\n",
    "\n",
    "  for sentence in doc.sents:\n",
    "      if is_passive(str(sentence)):\n",
    "          passive_voice_count += 1\n",
    "      sentence_count += 1\n",
    "  features_extraction.loc[i,\"f10_passive_voice_usage\"] = passive_voice_count / sentence_count\n",
    "  \n",
    "  if i % 5000 == 0 and i != 0:\n",
    "      print(f\"{i}\\t rows complete\")\n",
    "print(\"----------------------\")\n",
    "\n",
    "print(features_extraction.head(5))"
   ]
  },
  {
   "cell_type": "markdown",
   "metadata": {
    "id": "DR2b3YmopRsp"
   },
   "source": [
    "# Feature 11: Negations Usage"
   ]
  },
  {
   "cell_type": "code",
   "execution_count": null,
   "metadata": {
    "id": "pbk7pDaspZ_U"
   },
   "outputs": [],
   "source": [
    "categories = [\"negations\"]\n",
    "actual, regex = get_LIWC_dictionary_words(categories)\n",
    "\n",
    "print(\"Progress...\")\n",
    "for i in range(len(processed_dataset)):\n",
    "  count = 0\n",
    "  words = str(processed_dataset.loc[i,\"lower_case_review_text\"]).split()\n",
    "  for word in words: \n",
    "    if word in actual:\n",
    "      count += 1\n",
    "    else:\n",
    "      for re in regex:\n",
    "        if word[:len(re)] == re:\n",
    "          count += 1\n",
    "          break\n",
    "\n",
    "  if processed_dataset.loc[i,\"review_text_word_count\"] == 0:\n",
    "    features_extraction.loc[i,'f11_negations_usage'] = 0\n",
    "  else:\n",
    "    features_extraction.loc[i,'f11_negations_usage'] = count / processed_dataset.loc[i,'review_text_word_count']\n",
    "  \n",
    "  if i % 5000 == 0 and i != 0:\n",
    "    print(f\"{i}\\t rows complete\")\n",
    "print(\"----------------------\")\n",
    "print(\"\\n\\n\")\n",
    "print(features_extraction.head(5))"
   ]
  },
  {
   "cell_type": "markdown",
   "metadata": {
    "id": "xKLyHvtZrxM8"
   },
   "source": [
    "# Feature 12: Sentiment Polarity"
   ]
  },
  {
   "cell_type": "code",
   "execution_count": null,
   "metadata": {
    "id": "lTQixKJlpZwE"
   },
   "outputs": [],
   "source": [
    "features_extraction[\"f12_sentiment_polarity\"] = processed_dataset[\"review_text\"].apply(lambda row: TextBlob(row).sentiment.polarity)\n",
    "print(features_extraction.head(5))"
   ]
  },
  {
   "cell_type": "markdown",
   "metadata": {
    "id": "blHXLg27sOYl"
   },
   "source": [
    "# Feature 13: Sentiment Subjectivity"
   ]
  },
  {
   "cell_type": "code",
   "execution_count": null,
   "metadata": {
    "id": "7A-VzWohsSnL"
   },
   "outputs": [],
   "source": [
    "features_extraction[\"f13_sentiment_subjectivity\"] = processed_dataset[\"review_text\"].apply(lambda row: TextBlob(row).sentiment.subjectivity)\n",
    "print(features_extraction.head(5))"
   ]
  },
  {
   "cell_type": "markdown",
   "metadata": {
    "id": "TCYlO0Hcsclx"
   },
   "source": [
    "# Feature 14,15: Emotion Words Usage"
   ]
  },
  {
   "cell_type": "code",
   "execution_count": null,
   "metadata": {
    "id": "Z5xQsEBisSXq"
   },
   "outputs": [],
   "source": [
    "categories = [\"affective_processes\"]\n",
    "AF_actual, AF_regex = get_LIWC_dictionary_words(categories)\n",
    "\n",
    "categories = [\"positive_emotions\"]\n",
    "PE_actual, PE_regex = get_LIWC_dictionary_words(categories)\n",
    "\n",
    "categories = [\"negative_emotions\"]\n",
    "NE_actual, NE_regex = get_LIWC_dictionary_words(categories)\n",
    "\n",
    "print(\"Progress...\")\n",
    "for i in range(len(processed_dataset)):\n",
    "  AF_count = 0\n",
    "  PE_count = 0\n",
    "  NE_count = 0\n",
    "\n",
    "  words = str(processed_dataset.loc[i,\"lower_case_review_text\"]).split()\n",
    "  for word in words: \n",
    "\n",
    "    if word in AF_actual:\n",
    "      AF_count += 1\n",
    "    else:\n",
    "      for re in AF_regex:\n",
    "        if word[:len(re)] == re:\n",
    "          AF_count += 1\n",
    "          break\n",
    "\n",
    "    if word in PE_actual:\n",
    "      PE_count += 1\n",
    "    else:\n",
    "      for re in PE_regex:\n",
    "        if word[:len(re)] == re:\n",
    "          PE_count += 1\n",
    "          break\n",
    "\n",
    "    if word in NE_actual:\n",
    "      NE_count += 1\n",
    "    else:\n",
    "      for re in NE_regex:\n",
    "        if word[:len(re)] == re:\n",
    "          NE_count += 1\n",
    "          break\n",
    "  \n",
    "  if AF_count == 0:\n",
    "    features_extraction.loc[i,\"f14_positive_emotion_words_usage\"] = 0\n",
    "    features_extraction.loc[i,\"f15_negative_emotion_words_usage\"] = 0\n",
    "    continue\n",
    "\n",
    "  if PE_count == 0:\n",
    "    features_extraction.loc[i,\"f14_positive_emotion_words_usage\"] = 0\n",
    "  else:\n",
    "    features_extraction.loc[i,\"f14_positive_emotion_words_usage\"] = PE_count / AF_count\n",
    "\n",
    "  if NE_count == 0:\n",
    "    features_extraction.loc[i,\"f15_negative_emotion_words_usage\"] = 0\n",
    "  else:\n",
    "    features_extraction.loc[i,\"f15_negative_emotion_words_usage\"] = NE_count / AF_count\n",
    "\n",
    "  if i % 5000 == 0 and i != 0:\n",
    "    print(f\"{i}\\t rows complete\")\n",
    "print(\"----------------------\")\n",
    "print(\"\\n\\n\")\n",
    "print(features_extraction.head(5))"
   ]
  },
  {
   "cell_type": "markdown",
   "metadata": {
    "id": "b7mbY1mcyvdh"
   },
   "source": [
    "# Feature 16: Location of maximum affect"
   ]
  },
  {
   "cell_type": "code",
   "execution_count": null,
   "metadata": {
    "colab": {
     "background_save": true
    },
    "id": "9Y3ym1s7y-dg"
   },
   "outputs": [],
   "source": [
    "\"\"\"\n",
    "Algorithm\n",
    "\n",
    "(a) tokenize each text at the sentence level,\n",
    "(b) score each sentence using the LIWC category ‘‘affective processes’’ to calculate the emotion ratio, \n",
    "(c) determine the sentence number with the maximum score of affect, and\n",
    "(d) divide the sentence number by the number of sentences in the text.\n",
    "  \n",
    "for review in joined_date:\n",
    "  sentences = sent_tokenize(review)\n",
    "\n",
    "  max_index = 0\n",
    "  max_count = 0 \n",
    "\n",
    "  for i,sentence in sentences:\n",
    "    count = 0\n",
    "    words = sentence.split()\n",
    "    for word in words:\n",
    "      if word in affective processes\n",
    "        count += 1\n",
    "\n",
    "    if count >= max_count\n",
    "      max_index = i\n",
    "      max_count = count\n",
    "  \n",
    "  f[\"f16_location_of_maximum_affect\"] = max_index / len(sentences)\n",
    "\"\"\"\n",
    "\n",
    "actual, regex = get_LIWC_dictionary_words([\"affective_processes\"])\n",
    "\n",
    "print(\"Progress...\")\n",
    "for i in range(len(processed_dataset)): \n",
    "\n",
    "  sentences = sent_tokenize(str(processed_dataset.loc[i,\"review_text\"]))\n",
    "\n",
    "  max_ratio_index = 0\n",
    "  max_ratio = 0 \n",
    "\n",
    "  j = 0\n",
    "  for sentence in sentences:        \n",
    "\n",
    "    count = 0 # to count number of affective words\n",
    "\n",
    "    words = word_tokenize(sentence) # word tokenisation\n",
    "    for word in words:\n",
    "      if word in actual:\n",
    "        count += 1\n",
    "      else:\n",
    "        for reg in regex:\n",
    "          if word[:len(reg)] == reg:\n",
    "            count += 1\n",
    "            break\n",
    "\n",
    "    ratio = count / len(words)\n",
    "\n",
    "    if ratio >= max_ratio:\n",
    "      max_ratio_index = j\n",
    "      max_ratio = ratio\n",
    "\n",
    "    j += 1\n",
    "\n",
    "  features_extraction.loc[i,\"f16_location_of_maximum_affect\"] = (max_ratio_index / len(sentences)) if len(sentences) != 0 else 0\n",
    "  \n",
    "  if i % 5000 == 0 and i != 0 :\n",
    "    print(f\"{i}\\trows done\")\n",
    "print(\"----------------------\")\n",
    "\n",
    "print(features_extraction.head(5))"
   ]
  },
  {
   "cell_type": "markdown",
   "metadata": {
    "id": "oXbb9AcY1TIC"
   },
   "source": [
    "# Feature 17,18: Uncertainty Features"
   ]
  },
  {
   "cell_type": "code",
   "execution_count": null,
   "metadata": {
    "colab": {
     "background_save": true
    },
    "id": "S4o5SAxRy-Q0"
   },
   "outputs": [],
   "source": [
    "categories = [\"certainty\"]\n",
    "CR_actual, CR_regex = get_LIWC_dictionary_words(categories)\n",
    "\n",
    "categories = [\"tentative\"]\n",
    "UC_actual, UC_regex = get_LIWC_dictionary_words(categories)\n",
    "\n",
    "print(\"Progress...\")\n",
    "for i in range(len(processed_dataset)):\n",
    "  CR_count = 0\n",
    "  UC_count = 0\n",
    "\n",
    "  words = str(processed_dataset.loc[i,\"lower_case_review_text\"]).split()\n",
    "  for word in words: \n",
    "\n",
    "    if word in CR_actual:\n",
    "      CR_count += 1\n",
    "    else:\n",
    "      for re in CR_regex:\n",
    "        if word[:len(re)] == re:\n",
    "          CR_count += 1\n",
    "          break\n",
    "\n",
    "    if word in UC_actual:\n",
    "      UC_count += 1\n",
    "    else:\n",
    "      for re in UC_regex:\n",
    "        if word[:len(re)] == re:\n",
    "          UC_count += 1\n",
    "          break\n",
    "\n",
    "  word_count = processed_dataset.loc[i,\"review_text_word_count\"]\n",
    "  if word_count == 0:\n",
    "    features_extraction.loc[i,\"f17_certainty_words_usage\"] = 0\n",
    "    features_extraction.loc[i,\"f18_uncertainty_words_usage\"] = 0\n",
    "    continue\n",
    "\n",
    "  if CR_count == 0:\n",
    "    features_extraction.loc[i,\"f17_certainty_words_usage\"] = 0\n",
    "  else:\n",
    "    features_extraction.loc[i,\"f17_certainty_words_usage\"] = CR_count / word_count\n",
    "\n",
    "  if UC_count == 0:\n",
    "    features_extraction.loc[i,\"f18_uncertainty_words_usage\"] = 0\n",
    "  else:\n",
    "    features_extraction.loc[i,\"f18_uncertainty_words_usage\"] = UC_count / word_count\n",
    "\n",
    "  if i % 5000 == 0 and i != 0:\n",
    "    print(f\"{i}\\t rows complete\")\n",
    "print(\"----------------------\")\n",
    "print(\"\\n\\n\")\n",
    "print(features_extraction.head(5))"
   ]
  },
  {
   "cell_type": "markdown",
   "metadata": {
    "id": "VI-3pkaCw3bZ"
   },
   "source": [
    "# Feature 19: Misspelled Words Ratio"
   ]
  },
  {
   "cell_type": "code",
   "execution_count": null,
   "metadata": {
    "colab": {
     "background_save": true
    },
    "id": "64z6CKTT37OQ"
   },
   "outputs": [],
   "source": [
    "spell = SpellChecker()\n",
    "features_extraction[\"f19_misspelled_words_ratio\"] = processed_dataset[\"lower_case_review_text\"].apply(lambda row: len(spell.unknown(str(row).split())))\n",
    "features_extraction[\"f19_misspelled_words_ratio\"] = features_extraction[\"f19_misspelled_words_ratio\"].div(processed_dataset[\"review_text_word_count\"])\n",
    "print(features_extraction.head(5))"
   ]
  },
  {
   "cell_type": "markdown",
   "metadata": {
    "id": "5IZPfGe45_1C"
   },
   "source": [
    "# Feature 20: Rating-Sentiment Inconsistency"
   ]
  },
  {
   "cell_type": "code",
   "execution_count": null,
   "metadata": {
    "id": "A6sk2nLr6GrE"
   },
   "outputs": [],
   "source": [
    "MIN_POLARITY = -1\n",
    "MAX_POLARITY = 1\n",
    "MIN_STAR = 1\n",
    "MAX_STAR = 5\n",
    "\n",
    "print(\"Progress...\")\n",
    "for i in range(len(processed_dataset)):    \n",
    "  features_extraction.loc[i,\"f20_rating_sentiment_inconsistency\"] = (features_extraction.loc[i,\"f12_sentiment_polarity\"] - MIN_POLARITY)/(MAX_POLARITY - MIN_POLARITY) - (processed_dataset.loc[i,\"star_rating\"] - MIN_STAR)/(MAX_STAR - MIN_STAR)\n",
    "\n",
    "  if i % 5000 == 0 and i != 0:\n",
    "      print(f\"{i}\\t rows complete\")\n",
    "print(\"----------------------\")\n",
    "    \n",
    "print(features_extraction.head(5))"
   ]
  },
  {
   "cell_type": "markdown",
   "metadata": {
    "id": "38VVHeNs62gy"
   },
   "source": [
    "# Feature 21: Number of Reviews"
   ]
  },
  {
   "cell_type": "code",
   "execution_count": null,
   "metadata": {
    "id": "lT1HD4p266sc"
   },
   "outputs": [],
   "source": [
    "\"\"\"\n",
    "Algorithm\n",
    "The task is done in two passes of the dataset using a dictionary.\n",
    "\n",
    "Create a dictionary to hold (user_id, count_of_review_posts) as key-value pairs.\n",
    "\n",
    "First pass:- \n",
    "For each review increment the reviewer\"s count.\n",
    "\n",
    "Second pass:-\n",
    "For each review assign the corresponding value of reviewer from dictionary. \n",
    "\n",
    "\"\"\"\n",
    "\n",
    "reviews_count_per_user = {}\n",
    "\n",
    "print(\"Pass 1 Status:- \")\n",
    "for i in range(len(processed_dataset)):   \n",
    "\n",
    "  if processed_dataset.loc[i,\"reviewer_id\"] in reviews_count_per_user:\n",
    "    reviews_count_per_user[processed_dataset.loc[i,\"reviewer_id\"]] += 1\n",
    "  else:\n",
    "    reviews_count_per_user[processed_dataset.loc[i,\"reviewer_id\"]] = 1\n",
    "\n",
    "  if i % 5000 == 0 and i != 0:\n",
    "      print(f\"{i}\\t rows complete\")\n",
    "print(\"----------------------\")\n",
    "\n",
    "\n",
    "print(\"\\n\\nPass 2 Status:- \")\n",
    "for i in range(len(processed_dataset)):\n",
    "\n",
    "  features_extraction.loc[i,\"f21_number_of_reviews\"] = reviews_count_per_user[processed_dataset.loc[i,\"reviewer_id\"]]\n",
    "\n",
    "  if i % 5000 == 0 and i != 0:\n",
    "      print(f\"{i}\\t rows complete\")\n",
    "print(\"----------------------\")\n",
    "\n",
    "print(features_extraction.head(5))"
   ]
  },
  {
   "cell_type": "markdown",
   "metadata": {
    "id": "WwbhDOhe7qB0"
   },
   "source": [
    "# Feature 22: Rating Deviation"
   ]
  },
  {
   "cell_type": "code",
   "execution_count": null,
   "metadata": {
    "id": "LFxewbQ97usq"
   },
   "outputs": [],
   "source": [
    "\"\"\"\n",
    "Algorithm\n",
    "The task is done in two passes of the dataset using a dictionary of lists.\n",
    "\n",
    "Create a dictionary to hold (product_id, list of ratings) as key-value pairs.\n",
    "\n",
    "First pass:- \n",
    "For each product add the rating to the list(value of dictionary).\n",
    "\n",
    "Second pass:-\n",
    "For each review, find the corresponding avg of product_id and hence the req val. \n",
    "\n",
    "\"\"\"\n",
    "MIN_STAR = 1\n",
    "MAX_STAR = 5\n",
    "\n",
    "product_ratings_list={} \n",
    "\n",
    "print(\"Pass 1 Status:-\")\n",
    "for i in range(len(processed_dataset)):\n",
    "  if processed_dataset.loc[i,\"product_id\"] in product_ratings_list:\n",
    "    product_ratings_list[processed_dataset.loc[i,\"product_id\"]] += [processed_dataset.loc[i, \"star_rating\"]]\n",
    "  else:\n",
    "    product_ratings_list[processed_dataset.loc[i,\"product_id\"]] = [processed_dataset.loc[i,\"star_rating\"]]\n",
    "\n",
    "  if i % 5000 == 0 and i != 0:\n",
    "      print(f\"{i}\\t rows complete\")\n",
    "print(\"----------------------\")\n",
    "\n",
    "print(\"\\n\\nPass 2 Status:-\")\n",
    "for i in range(len(processed_dataset)):   \n",
    "\n",
    "  average_product_rating = sum(product_ratings_list[processed_dataset.loc[i,\"product_id\"]]) / len(product_ratings_list[processed_dataset.loc[i,\"product_id\"]])\n",
    "  features_extraction.loc[i,\"f22_rating_deviation\"] = (processed_dataset.loc[i,\"star_rating\"] - average_product_rating ) / (MAX_STAR - MIN_STAR)\n",
    "\n",
    "  if i % 5000 == 0 and i != 0:\n",
    "      print(f\"{i}\\t rows complete\")\n",
    "print(\"----------------------\")\n",
    "\n",
    "print(features_extraction.head(5))"
   ]
  },
  {
   "cell_type": "markdown",
   "metadata": {
    "id": "yuZWZ8KL9J90"
   },
   "source": [
    "# Feature 23: Extreme Rating Ratio"
   ]
  },
  {
   "cell_type": "code",
   "execution_count": null,
   "metadata": {
    "id": "rx0IYPmk9O_h"
   },
   "outputs": [],
   "source": [
    "\"\"\"\n",
    "Algorithm\n",
    "The task is done in two passes of the rows and using dictionary.\n",
    "\n",
    "Create a dictionary to hold (user_id, count_of_max_rating_reviews) as key-value pairs.\n",
    "\n",
    "First pass:- \n",
    "For each review \n",
    "  increment the reviewer's count if the rating is in {1,5}\n",
    "\n",
    "Second pass:-\n",
    "For each review assign the corresponding value of reviewer from dictionary. \n",
    "\n",
    "\"\"\"\n",
    "MAX_RATING = 5\n",
    "MIN_RATING = 1\n",
    "extreme_rating_count_per_user = {}\n",
    "\n",
    "print(\"Pass 1 Status:- \")\n",
    "for i in range(len(processed_dataset)):                  \n",
    "  if processed_dataset.loc[i,\"star_rating\"] == MIN_RATING or processed_dataset.loc[i,\"star_rating\"] == MAX_RATING:\n",
    "    if processed_dataset.loc[i,\"reviewer_id\"] in extreme_rating_count_per_user:\n",
    "      extreme_rating_count_per_user[processed_dataset.loc[i,\"reviewer_id\"]] += 1\n",
    "    else:\n",
    "      extreme_rating_count_per_user[processed_dataset.loc[i,\"reviewer_id\"]] = 1\n",
    "\n",
    "  if i % 5000 == 0 and i != 0:\n",
    "      print(f\"{i}\\t rows complete\")\n",
    "print(\"----------------------\")\n",
    "\n",
    "print(\"Pass 2 Status:- \")\n",
    "for i in range(len(processed_dataset)):\n",
    "  features_extraction.loc[i,\"f23_extreme_rating_ratio\"] = (extreme_rating_count_per_user[processed_dataset.loc[i,\"reviewer_id\"]] / features_extraction.loc[i,\"f21_number_of_reviews\"]) if processed_dataset.loc[i,\"reviewer_id\"] in extreme_rating_count_per_user else 0.0\n",
    "  \n",
    "  if i % 5000 == 0 and i != 0:\n",
    "      print(f\"{i}\\t rows complete\")\n",
    "print(\"----------------------\")\n",
    "    \n",
    "print(features_extraction.head(5))"
   ]
  },
  {
   "cell_type": "markdown",
   "metadata": {
    "id": "MTdfL26X-FmU"
   },
   "source": [
    "# Feature 24: Maximum Reviewing Frequency"
   ]
  },
  {
   "cell_type": "code",
   "execution_count": null,
   "metadata": {
    "id": "d8xZpdB_-PfE"
   },
   "outputs": [],
   "source": [
    "\"\"\"\n",
    "Algorithm \n",
    "The complexity of the algorithm is O(n)\n",
    "The data structure used here is dictionary of dictionaries.\n",
    "\n",
    "There are three passes. \n",
    "\n",
    "Pass1:- Passing over data. \n",
    "Here we will be just storing the user_id and \n",
    "  the number of different dates on which the user has texted.\n",
    "The former is the outer dictionary and latter is the inner dictionary. \n",
    "\n",
    "The outer dictionary's key is user_id and value is inner dictionary. \n",
    "The inner dictionary's key is date and value is the count of reviews on that date. \n",
    "\n",
    "Effectively giving out the following code:\n",
    "dic = {user_id, nested_dic = {date, count}}\n",
    "eg:- {923: {\"2014-12-08\": 1}, 924: {\"2013-05-16\": 1}, 925: {\"2013-07-01\": 1}, 926: {\"2011-07-28\": 1}, 927: {\"2010-11-01\": 1}}\n",
    "What it contains is, the list of days a user has written review and along with the number of reviews on that day. \n",
    "\n",
    "------\n",
    "\n",
    "Pass2:- Passing over the dic\n",
    "Here will be using another dictionary to store the maximum reviews on a date. \n",
    "The above is extracted by iterating through the dictionary. \n",
    "dic2 = { user_id, max_count }\n",
    "eg:- {923: 1, 924: 1, 925: 1, 926: 1, 927: 1}\n",
    "\n",
    "------\n",
    "\n",
    "Pass3:- Filling in the features table.\n",
    "\n",
    "------\n",
    "\n",
    "Pseudo Code:- \n",
    "\n",
    "#first pass\n",
    "for i in range(data):\n",
    "  if user_id exists in dic:\n",
    "    if date exists in dic[user_id]\n",
    "      dic[user_id][date] += 1\n",
    "    else:\n",
    "      #implies date doesn\"t exists\n",
    "      dic[user_id][date] = 1\n",
    "  else\n",
    "    #implies user doesn\"t exists\n",
    "    dic[user_id] = {} \n",
    "\n",
    "#second pass\n",
    "dic2 = { user_id, max_count }\n",
    "\n",
    "for user_id in dic: #iterating through every key of dic\n",
    "  count = 0\n",
    "  \n",
    "  for date in dic[user_id]: \n",
    "    count = max(count, dic[user_id][date])\n",
    "\n",
    "  dic2[user_id] = count\n",
    "\n",
    "#Third pass\n",
    "for i in range(data):\n",
    "  data[f24_maximum_reviewing_frequency] = dic2[data.loc[i,\"user_id\"]]\n",
    "\"\"\"\n",
    "\n",
    "user_review_dates_dictionary = {}\n",
    "\n",
    "print(\"Pass 1 Status:- \")\n",
    "for i in range(len(processed_dataset)):\n",
    "  if processed_dataset.loc[i,\"reviewer_id\"] in user_review_dates_dictionary:\n",
    "    \n",
    "    if processed_dataset.loc[i,\"date\"] in user_review_dates_dictionary[processed_dataset.loc[i,\"reviewer_id\"]]:\n",
    "      user_review_dates_dictionary[processed_dataset.loc[i,\"reviewer_id\"]][processed_dataset.loc[i,\"date\"]] += 1\n",
    "    else:\n",
    "      user_review_dates_dictionary[processed_dataset.loc[i,\"reviewer_id\"]][processed_dataset.loc[i,\"date\"]] = 1\n",
    "\n",
    "  else:\n",
    "    user_review_dates_dictionary[processed_dataset.loc[i,\"reviewer_id\"]] = {}\n",
    "    user_review_dates_dictionary[processed_dataset.loc[i,\"reviewer_id\"]][processed_dataset.loc[i,\"date\"]] = 1\n",
    "  \n",
    "  if i % 5000 == 0 and i != 0:\n",
    "      print(f\"{i}\\t rows complete\")\n",
    "print(\"----------------------\")\n",
    "\n",
    "\n",
    "user_max_review_per_day_dictionary = {} \n",
    "\n",
    "for user_id in user_review_dates_dictionary:\n",
    "  count = 0\n",
    "\n",
    "  for date in user_review_dates_dictionary[user_id]:\n",
    "    count = max(count, user_review_dates_dictionary[user_id][date])\n",
    "  \n",
    "  user_max_review_per_day_dictionary[user_id] = count\n",
    "\n",
    "print(\"Pass 2 Status:- \")\n",
    "for i in range(len(processed_dataset)):\n",
    "  features_extraction.loc[i,\"f24_maximum_reviewing_frequency\"] = user_max_review_per_day_dictionary[processed_dataset.loc[i,\"reviewer_id\"]]\n",
    "\n",
    "  if i % 5000 == 0 and i != 0:\n",
    "      print(f\"{i}\\t rows complete\")\n",
    "print(\"----------------------\")\n",
    "\n",
    "print(features_extraction.head(5))"
   ]
  },
  {
   "cell_type": "markdown",
   "metadata": {
    "id": "mPP8YglC9f-5"
   },
   "source": [
    "# Libraries for Models"
   ]
  },
  {
   "cell_type": "code",
   "execution_count": 3,
   "metadata": {
    "colab": {
     "base_uri": "https://localhost:8080/"
    },
    "id": "rioFnwJd9fVz",
    "outputId": "65d8b747-bb71-4126-f8ec-e7587daac5fe"
   },
   "outputs": [
    {
     "name": "stderr",
     "output_type": "stream",
     "text": [
      "ERROR: Invalid requirement: '#'\n"
     ]
    }
   ],
   "source": [
    "import pandas as pd   # for importing features\n",
    "from imblearn.over_sampling import RandomOverSampler\n",
    "\n",
    "from sklearn.model_selection import train_test_split\n",
    "\n",
    "from sklearn.linear_model import LogisticRegression\n",
    "from sklearn.metrics import classification_report\n",
    "from sklearn.metrics import confusion_matrix\n",
    "from sklearn.metrics import roc_curve, roc_auc_score\n",
    "from matplotlib import pyplot as plt      # for plotting confusion matrix\n",
    "import seaborn as sns   # templates for confusion matrix\n",
    "from sklearn.naive_bayes import GaussianNB\n",
    "from sklearn import tree\n",
    "from sklearn.ensemble import RandomForestClassifier\n",
    "from sklearn import svm\n",
    "from sklearn.neural_network import MLPClassifier\n",
    "from sklearn.ensemble import GradientBoostingClassifier\n",
    "from sklearn.linear_model import PassiveAggressiveClassifier"
   ]
  },
  {
   "cell_type": "markdown",
   "metadata": {
    "id": "ujO8fT4a3TMd"
   },
   "source": [
    "# Loading Files"
   ]
  },
  {
   "cell_type": "code",
   "execution_count": 5,
   "metadata": {
    "id": "IyTQOn9LiR9B"
   },
   "outputs": [],
   "source": [
    "features = pd.read_csv(\"YelpChi-features.csv\")\n",
    "processed_data = pd.read_csv(\"YelpChi-processed.csv\")"
   ]
  },
  {
   "cell_type": "markdown",
   "metadata": {
    "id": "V1UZxpEGp682"
   },
   "source": [
    "# Balancing Dataset"
   ]
  },
  {
   "cell_type": "code",
   "execution_count": 6,
   "metadata": {
    "colab": {
     "base_uri": "https://localhost:8080/"
    },
    "id": "0dscYuLCgNdx",
    "outputId": "debbe267-aeef-432c-f83c-bde7074f8bc5"
   },
   "outputs": [
    {
     "name": "stdout",
     "output_type": "stream",
     "text": [
      "Index(['f01_generalization_terms_usage', 'f02_richness_of_details',\n",
      "       'f03_richness_of_verifiable_details', 'f04_length_of_the_review',\n",
      "       'f05_first_person_singular_pronouns_usage',\n",
      "       'f06_first_person_plural_pronouns_usage',\n",
      "       'f07_third_person_pronouns_usage', 'f08_present_tense_verbs_usage',\n",
      "       'f09_past_tense_verbs_usage', 'f10_passive_voice_usage',\n",
      "       'f11_negations_usage', 'f12_sentiment_polarity',\n",
      "       'f13_sentiment_subjectivity', 'f14_positive_emotion_words_usage',\n",
      "       'f15_negative_emotion_words_usage', 'f16_location_of_maximum_affect',\n",
      "       'f17_certainty_words_usage', 'f18_uncertainty_words_usage',\n",
      "       'f19_misspelled_words_ratio', 'f20_rating_sentiment_inconsistency',\n",
      "       'f21_number_of_reviews', 'f22_rating_deviation',\n",
      "       'f23_extreme_rating_ratio', 'f24_maximum_reviewing_frequency'],\n",
      "      dtype='object')\n"
     ]
    }
   ],
   "source": [
    "print(features.columns)"
   ]
  },
  {
   "cell_type": "code",
   "execution_count": 7,
   "metadata": {
    "id": "QuIj1a6P321E"
   },
   "outputs": [],
   "source": [
    "X = features[[\n",
    "  'f01_generalization_terms_usage', \n",
    "  'f02_richness_of_details',\n",
    "       'f03_richness_of_verifiable_details', \n",
    "       'f04_length_of_the_review',\n",
    "       'f05_first_person_singular_pronouns_usage',\n",
    "       'f06_first_person_plural_pronouns_usage',\n",
    "       'f07_third_person_pronouns_usage', \n",
    "       'f08_present_tense_verbs_usage',\n",
    "       'f09_past_tense_verbs_usage', \n",
    "       'f10_passive_voice_usage',\n",
    "       'f11_negations_usage', \n",
    "       'f12_sentiment_polarity',\n",
    "       'f13_sentiment_subjectivity', \n",
    "       'f14_positive_emotion_words_usage',\n",
    "       'f15_negative_emotion_words_usage', \n",
    "       'f16_location_of_maximum_affect',\n",
    "       'f17_certainty_words_usage', \n",
    "       'f18_uncertainty_words_usage',\n",
    "       'f19_misspelled_words_ratio', \n",
    "      #  'f20_rating_sentiment_inconsistency',\n",
    "      #  'f21_number_of_reviews', \n",
    "      #  'f22_rating_deviation',\n",
    "      #  'f23_extreme_rating_ratio', \n",
    "      #  'f24_maximum_reviewing_frequency'\n",
    "]]\n",
    "y = processed_data['label']"
   ]
  },
  {
   "cell_type": "code",
   "execution_count": null,
   "metadata": {
    "colab": {
     "base_uri": "https://localhost:8080/"
    },
    "id": "CC3d1VgX38oO",
    "outputId": "98120587-1e14-4e34-e362-096a77ceb6ab"
   },
   "outputs": [
    {
     "data": {
      "text/plain": [
       "0    58476\n",
       "1     8919\n",
       "Name: label, dtype: int64"
      ]
     },
     "execution_count": 18,
     "metadata": {},
     "output_type": "execute_result"
    }
   ],
   "source": [
    "y.value_counts()"
   ]
  },
  {
   "cell_type": "code",
   "execution_count": null,
   "metadata": {
    "colab": {
     "base_uri": "https://localhost:8080/"
    },
    "id": "qj7XpS-f3_sO",
    "outputId": "538edb43-d001-47d9-872a-526f027c871a"
   },
   "outputs": [
    {
     "data": {
      "text/plain": [
       "0    58476\n",
       "1    58476\n",
       "Name: label, dtype: int64"
      ]
     },
     "execution_count": 19,
     "metadata": {},
     "output_type": "execute_result"
    }
   ],
   "source": [
    "# Oversampling the minority class.\n",
    "smote = SMOTE(sampling_strategy = 'minority')\n",
    "X, y = smote.fit_resample(X,y)\n",
    "y.value_counts()"
   ]
  },
  {
   "cell_type": "code",
   "execution_count": null,
   "metadata": {
    "colab": {
     "base_uri": "https://localhost:8080/"
    },
    "id": "5e7EKmw3kfm3",
    "outputId": "610e6e63-96ca-4439-81b3-1eea067ac074"
   },
   "outputs": [
    {
     "name": "stdout",
     "output_type": "stream",
     "text": [
      "X_train.shape = (105256, 19)\n",
      "y_train.shape = (105256,)\n",
      "\n",
      "X_test.shape = (11696, 19)\n",
      "y_test.shape = (11696,)\n"
     ]
    }
   ],
   "source": [
    "X_train, X_test, y_train, y_test = train_test_split(X, y, test_size = 0.10, random_state = 3, stratify = y)\n",
    "print(f\"X_train.shape = {X_train.shape}\\ny_train.shape = {y_train.shape}\")\n",
    "print(f\"\\nX_test.shape = {X_test.shape}\\ny_test.shape = {y_test.shape}\")"
   ]
  },
  {
   "cell_type": "code",
   "execution_count": null,
   "metadata": {
    "colab": {
     "base_uri": "https://localhost:8080/"
    },
    "id": "nBplhh7N49rs",
    "outputId": "9055e802-51e3-44c5-ce68-c8fe9db2645f"
   },
   "outputs": [
    {
     "name": "stdout",
     "output_type": "stream",
     "text": [
      "Traing +ve/-ve split: \n",
      "0    52628\n",
      "1    52628\n",
      "Name: label, dtype: int64\n",
      "\n",
      "Testing +ve/-ve split: \n",
      "1    5848\n",
      "0    5848\n",
      "Name: label, dtype: int64\n"
     ]
    }
   ],
   "source": [
    "# What stratify does is it makes splits of equal frequency.\n",
    "print(f\"Traing +ve/-ve split: \\n{y_train.value_counts()}\")\n",
    "print()\n",
    "print(f\"Testing +ve/-ve split: \\n{y_test.value_counts()}\")"
   ]
  },
  {
   "cell_type": "code",
   "execution_count": null,
   "metadata": {
    "colab": {
     "base_uri": "https://localhost:8080/"
    },
    "id": "eOMsmk9sqC90",
    "outputId": "6479e7b0-d0d6-4e15-887f-d4b36998f151"
   },
   "outputs": [
    {
     "name": "stdout",
     "output_type": "stream",
     "text": [
      "X.shape = (67395, 24)\n",
      "y.shape = (67395,)\n",
      "y.count: \n",
      "0    58476\n",
      "1     8919\n",
      "Name: label, dtype: int64\n"
     ]
    }
   ],
   "source": [
    "X = features\n",
    "y = processed_data['label']\n",
    "print(f\"X.shape = {X.shape}\\ny.shape = {y.shape}\")\n",
    "print(f\"y.count: \\n{y.value_counts()}\")"
   ]
  },
  {
   "cell_type": "markdown",
   "metadata": {
    "id": "MGZz59h0B622"
   },
   "source": [
    "# Confusion Matrix"
   ]
  },
  {
   "cell_type": "code",
   "execution_count": null,
   "metadata": {
    "id": "sZSIe1XckrOf"
   },
   "outputs": [],
   "source": [
    "def print_confusion_matrix(y_test, y_prediction):\n",
    "  cm = confusion_matrix(y_test, y_prediction)\n",
    "  plt.figure(figsize=(5,5))\n",
    "  sns.heatmap(cm, annot=True, fmt=\".3f\", linewidths=.5, square = True, cmap = 'Blues')\n",
    "  plt.ylabel('Actual label')\n",
    "  plt.xlabel('Predicted label')\n",
    "  plt.show()\n",
    "  print()"
   ]
  },
  {
   "cell_type": "code",
   "execution_count": null,
   "metadata": {
    "id": "e9u_wfeMJA18"
   },
   "outputs": [],
   "source": [
    "def print_roc_curve(y_test, y_prediction):\n",
    "  fpr, tpr, thresholds = roc_curve(y_test, y_prediction)\n",
    "  plt.figure(figsize=(5,5))\n",
    "  plt.plot(fpr, tpr)\n",
    "  plt.xlabel('False Positive Rate')\n",
    "  plt.ylabel('True Positive Rate')\n",
    "  plt.show()\n",
    "  print()"
   ]
  },
  {
   "cell_type": "markdown",
   "metadata": {
    "id": "vIMUWvsTk03m"
   },
   "source": [
    "# Logistic Regression"
   ]
  },
  {
   "cell_type": "code",
   "execution_count": null,
   "metadata": {
    "colab": {
     "base_uri": "https://localhost:8080/",
     "height": 1000
    },
    "id": "uPRCmLL9k235",
    "outputId": "77180ffb-9766-427b-a82f-01a81752fb7a"
   },
   "outputs": [
    {
     "name": "stdout",
     "output_type": "stream",
     "text": [
      "              precision    recall  f1-score   support\n",
      "\n",
      "           0       0.62      0.59      0.60      5848\n",
      "           1       0.61      0.64      0.62      5848\n",
      "\n",
      "    accuracy                           0.61     11696\n",
      "   macro avg       0.61      0.61      0.61     11696\n",
      "weighted avg       0.61      0.61      0.61     11696\n",
      "\n"
     ]
    },
    {
     "data": {
      "image/png": "[encoded data removed]",
      "text/plain": [
       "<Figure size 500x500 with 2 Axes>"
      ]
     },
     "metadata": {},
     "output_type": "display_data"
    },
    {
     "name": "stdout",
     "output_type": "stream",
     "text": [
      "\n"
     ]
    },
    {
     "data": {
      "image/png": "[encoded data removed]",
      "text/plain": [
       "<Figure size 500x500 with 1 Axes>"
      ]
     },
     "metadata": {},
     "output_type": "display_data"
    },
    {
     "name": "stdout",
     "output_type": "stream",
     "text": [
      "\n"
     ]
    }
   ],
   "source": [
    "logistic_regression = LogisticRegression(random_state = 0, max_iter = 10000)\n",
    "logistic_regression = logistic_regression.fit(X_train, y_train)\n",
    "y_prediction = logistic_regression.predict(X_test)\n",
    "\n",
    "print(classification_report(y_test, y_prediction))\n",
    "print_confusion_matrix(y_test, y_prediction)\n",
    "print_roc_curve(y_test, y_prediction)"
   ]
  },
  {
   "cell_type": "markdown",
   "metadata": {
    "id": "9oov8UKLl71s"
   },
   "source": [
    "# Naive Bayes"
   ]
  },
  {
   "cell_type": "code",
   "execution_count": null,
   "metadata": {
    "colab": {
     "base_uri": "https://localhost:8080/",
     "height": 1000
    },
    "id": "QeGL63K6l9QR",
    "outputId": "40a2c17a-40a0-4391-a7c3-4aa146968aa6"
   },
   "outputs": [
    {
     "name": "stdout",
     "output_type": "stream",
     "text": [
      "              precision    recall  f1-score   support\n",
      "\n",
      "           0       0.57      0.66      0.61      5848\n",
      "           1       0.60      0.49      0.54      5848\n",
      "\n",
      "    accuracy                           0.58     11696\n",
      "   macro avg       0.58      0.58      0.58     11696\n",
      "weighted avg       0.58      0.58      0.58     11696\n",
      "\n"
     ]
    },
    {
     "data": {
      "image/png": "[encoded data removed]",
      "text/plain": [
       "<Figure size 500x500 with 2 Axes>"
      ]
     },
     "metadata": {},
     "output_type": "display_data"
    },
    {
     "name": "stdout",
     "output_type": "stream",
     "text": [
      "\n"
     ]
    },
    {
     "data": {
      "image/png": "[encoded data removed]",
      "text/plain": [
       "<Figure size 500x500 with 1 Axes>"
      ]
     },
     "metadata": {},
     "output_type": "display_data"
    },
    {
     "name": "stdout",
     "output_type": "stream",
     "text": [
      "\n"
     ]
    }
   ],
   "source": [
    "naive_bayes = GaussianNB()\n",
    "naive_bayes = naive_bayes.fit(X_train, y_train)\n",
    "y_prediction = naive_bayes.predict(X_test)\n",
    "\n",
    "print(classification_report(y_test, y_prediction))\n",
    "print_confusion_matrix(y_test, y_prediction)\n",
    "print_roc_curve(y_test, y_prediction)"
   ]
  },
  {
   "cell_type": "markdown",
   "metadata": {
    "id": "tZv1sYIEmKvS"
   },
   "source": [
    "# Decision Tree"
   ]
  },
  {
   "cell_type": "code",
   "execution_count": null,
   "metadata": {
    "colab": {
     "base_uri": "https://localhost:8080/",
     "height": 1000
    },
    "id": "LIFm5CTImN8T",
    "outputId": "da84b706-c95e-47e5-8549-3ce09b5bb96c"
   },
   "outputs": [
    {
     "name": "stdout",
     "output_type": "stream",
     "text": [
      "              precision    recall  f1-score   support\n",
      "\n",
      "           0       0.85      0.81      0.83      5848\n",
      "           1       0.82      0.85      0.84      5848\n",
      "\n",
      "    accuracy                           0.83     11696\n",
      "   macro avg       0.83      0.83      0.83     11696\n",
      "weighted avg       0.83      0.83      0.83     11696\n",
      "\n"
     ]
    },
    {
     "data": {
      "image/png": "[encoded data removed]",
      "text/plain": [
       "<Figure size 500x500 with 2 Axes>"
      ]
     },
     "metadata": {},
     "output_type": "display_data"
    },
    {
     "name": "stdout",
     "output_type": "stream",
     "text": [
      "\n"
     ]
    },
    {
     "data": {
      "image/png": "[encoded data removed]",
      "text/plain": [
       "<Figure size 500x500 with 1 Axes>"
      ]
     },
     "metadata": {},
     "output_type": "display_data"
    },
    {
     "name": "stdout",
     "output_type": "stream",
     "text": [
      "\n"
     ]
    }
   ],
   "source": [
    "decision_tree = tree.DecisionTreeClassifier()\n",
    "decision_tree = decision_tree.fit(X_train, y_train)\n",
    "y_prediction = decision_tree.predict(X_test)\n",
    "\n",
    "print(classification_report(y_test, y_prediction))\n",
    "print_confusion_matrix(y_test, y_prediction)\n",
    "print_roc_curve(y_test, y_prediction)"
   ]
  },
  {
   "cell_type": "markdown",
   "metadata": {
    "id": "zMaZVS1YmZMu"
   },
   "source": [
    "# Random Forest"
   ]
  },
  {
   "cell_type": "code",
   "execution_count": null,
   "metadata": {
    "colab": {
     "base_uri": "https://localhost:8080/",
     "height": 1000
    },
    "id": "80Kcpm3pma0F",
    "outputId": "262a3571-d8c5-41f0-d1ed-4628aa1d0a6c"
   },
   "outputs": [
    {
     "name": "stdout",
     "output_type": "stream",
     "text": [
      "              precision    recall  f1-score   support\n",
      "\n",
      "           0       0.86      0.94      0.90      5848\n",
      "           1       0.94      0.85      0.89      5848\n",
      "\n",
      "    accuracy                           0.90     11696\n",
      "   macro avg       0.90      0.90      0.90     11696\n",
      "weighted avg       0.90      0.90      0.90     11696\n",
      "\n"
     ]
    },
    {
     "data": {
      "image/png": "[encoded data removed]",
      "text/plain": [
       "<Figure size 500x500 with 2 Axes>"
      ]
     },
     "metadata": {},
     "output_type": "display_data"
    },
    {
     "name": "stdout",
     "output_type": "stream",
     "text": [
      "\n"
     ]
    },
    {
     "data": {
      "image/png": "[encoded data removed]",
      "text/plain": [
       "<Figure size 500x500 with 1 Axes>"
      ]
     },
     "metadata": {},
     "output_type": "display_data"
    },
    {
     "name": "stdout",
     "output_type": "stream",
     "text": [
      "\n"
     ]
    }
   ],
   "source": [
    "random_forest = RandomForestClassifier(n_estimators=10)\n",
    "random_forest = random_forest.fit(X_train, y_train)\n",
    "y_prediction = random_forest.predict(X_test)\n",
    "\n",
    "print(classification_report(y_test, y_prediction))\n",
    "print_confusion_matrix(y_test, y_prediction)\n",
    "print_roc_curve(y_test, y_prediction)\n",
    "\n",
    "import pickle\n",
    "with open('model', 'wb') as f:\n",
    "  pickle.dump(random_forest, f)"
   ]
  },
  {
   "cell_type": "markdown",
   "metadata": {
    "id": "d7CuYoutC6Fn"
   },
   "source": [
    "# Support Vector Machine"
   ]
  },
  {
   "cell_type": "code",
   "execution_count": null,
   "metadata": {
    "colab": {
     "base_uri": "https://localhost:8080/",
     "height": 1000
    },
    "id": "ZLNaA12EC6Fv",
    "outputId": "ba603166-1b8e-4418-9968-5ac511f25d02"
   },
   "outputs": [
    {
     "name": "stdout",
     "output_type": "stream",
     "text": [
      "              precision    recall  f1-score   support\n",
      "\n",
      "           0       0.85      0.52      0.64      5848\n",
      "           1       0.65      0.91      0.76      5848\n",
      "\n",
      "    accuracy                           0.71     11696\n",
      "   macro avg       0.75      0.71      0.70     11696\n",
      "weighted avg       0.75      0.71      0.70     11696\n",
      "\n"
     ]
    },
    {
     "data": {
      "image/png": "[encoded data removed]",
      "text/plain": [
       "<Figure size 500x500 with 2 Axes>"
      ]
     },
     "metadata": {},
     "output_type": "display_data"
    },
    {
     "name": "stdout",
     "output_type": "stream",
     "text": [
      "\n"
     ]
    },
    {
     "data": {
      "image/png": "[encoded data removed]",
      "text/plain": [
       "<Figure size 500x500 with 1 Axes>"
      ]
     },
     "metadata": {},
     "output_type": "display_data"
    },
    {
     "name": "stdout",
     "output_type": "stream",
     "text": [
      "\n"
     ]
    }
   ],
   "source": [
    "support_vector_machine = svm.SVC()#NuSVC(gamma = \"auto\")  # Non linear SVM\n",
    "support_vector_machine = support_vector_machine.fit(X_train, y_train)\n",
    "y_prediction = support_vector_machine.predict(X_test)\n",
    "\n",
    "print(classification_report(y_test, y_prediction))\n",
    "print_confusion_matrix(y_test, y_prediction)\n",
    "print_roc_curve(y_test, y_prediction)"
   ]
  },
  {
   "cell_type": "markdown",
   "metadata": {
    "id": "1XKrphBZ5ScO"
   },
   "source": [
    "# XGBoost"
   ]
  },
  {
   "cell_type": "code",
   "execution_count": null,
   "metadata": {
    "colab": {
     "base_uri": "https://localhost:8080/",
     "height": 1000
    },
    "id": "RfjFBCP65Uns",
    "outputId": "66ab085e-4779-4976-d180-485ca11f5037"
   },
   "outputs": [
    {
     "name": "stdout",
     "output_type": "stream",
     "text": [
      "              precision    recall  f1-score   support\n",
      "\n",
      "           0       0.86      0.81      0.84      5848\n",
      "           1       0.82      0.87      0.85      5848\n",
      "\n",
      "    accuracy                           0.84     11696\n",
      "   macro avg       0.84      0.84      0.84     11696\n",
      "weighted avg       0.84      0.84      0.84     11696\n",
      "\n"
     ]
    },
    {
     "data": {
      "image/png": "[encoded data removed]",
      "text/plain": [
       "<Figure size 500x500 with 2 Axes>"
      ]
     },
     "metadata": {},
     "output_type": "display_data"
    },
    {
     "name": "stdout",
     "output_type": "stream",
     "text": [
      "\n"
     ]
    },
    {
     "data": {
      "image/png": "[encoded data removed]",
      "text/plain": [
       "<Figure size 500x500 with 1 Axes>"
      ]
     },
     "metadata": {},
     "output_type": "display_data"
    },
    {
     "name": "stdout",
     "output_type": "stream",
     "text": [
      "\n"
     ]
    }
   ],
   "source": [
    "gradient_boost = GradientBoostingClassifier(n_estimators = 100, \n",
    "                                            learning_rate = 1.0,\n",
    "                                            max_depth = 1, \n",
    "                                            random_state=0)\n",
    "gradient_boost = gradient_boost.fit(X_train, y_train)\n",
    "y_prediction = gradient_boost.predict(X_test)\n",
    "\n",
    "print(classification_report(y_test, y_prediction))\n",
    "print_confusion_matrix(y_test, y_prediction)\n",
    "print_roc_curve(y_test, y_prediction)"
   ]
  },
  {
   "cell_type": "markdown",
   "metadata": {
    "id": "_9TkP50gFhQ3"
   },
   "source": [
    "# Neural Network"
   ]
  },
  {
   "cell_type": "code",
   "execution_count": null,
   "metadata": {
    "colab": {
     "base_uri": "https://localhost:8080/",
     "height": 1000
    },
    "id": "hyqnUZhXFluh",
    "outputId": "582c7df7-21c0-4ca9-d30b-e0130d2b9bfe"
   },
   "outputs": [
    {
     "name": "stdout",
     "output_type": "stream",
     "text": [
      "              precision    recall  f1-score   support\n",
      "\n",
      "           0       0.85      0.80      0.82      5848\n",
      "           1       0.81      0.86      0.83      5848\n",
      "\n",
      "    accuracy                           0.83     11696\n",
      "   macro avg       0.83      0.83      0.83     11696\n",
      "weighted avg       0.83      0.83      0.83     11696\n",
      "\n"
     ]
    },
    {
     "data": {
      "image/png": "[encoded data removed]",
      "text/plain": [
       "<Figure size 500x500 with 2 Axes>"
      ]
     },
     "metadata": {},
     "output_type": "display_data"
    },
    {
     "name": "stdout",
     "output_type": "stream",
     "text": [
      "\n"
     ]
    },
    {
     "data": {
      "image/png": "[encoded data removed]",
      "text/plain": [
       "<Figure size 500x500 with 1 Axes>"
      ]
     },
     "metadata": {},
     "output_type": "display_data"
    },
    {
     "name": "stdout",
     "output_type": "stream",
     "text": [
      "\n"
     ]
    }
   ],
   "source": [
    "neural_network = MLPClassifier(hidden_layer_sizes=(100,50),max_iter=1000)\n",
    "neural_network.fit(X_train,y_train)\n",
    "y_prediction = neural_network.predict(X_test)\n",
    "\n",
    "print(classification_report(y_test, y_prediction))\n",
    "print_confusion_matrix(y_test, y_prediction)\n",
    "print_roc_curve(y_test, y_prediction)"
   ]
  },
  {
   "cell_type": "markdown",
   "metadata": {
    "id": "b-ohdv6FRdcI"
   },
   "source": [
    "# Passive Agressive Classifier"
   ]
  },
  {
   "cell_type": "code",
   "execution_count": null,
   "metadata": {
    "colab": {
     "base_uri": "https://localhost:8080/",
     "height": 1000
    },
    "id": "OCsiKoarRlDF",
    "outputId": "d2d2870e-e32b-4e00-ccd4-21b376d7a76b"
   },
   "outputs": [
    {
     "name": "stdout",
     "output_type": "stream",
     "text": [
      "              precision    recall  f1-score   support\n",
      "\n",
      "           0       0.92      0.26      0.41      5848\n",
      "           1       0.57      0.98      0.72      5848\n",
      "\n",
      "    accuracy                           0.62     11696\n",
      "   macro avg       0.74      0.62      0.56     11696\n",
      "weighted avg       0.74      0.62      0.56     11696\n",
      "\n"
     ]
    },
    {
     "data": {
      "image/png": "[encoded data removed]",
      "text/plain": [
       "<Figure size 500x500 with 2 Axes>"
      ]
     },
     "metadata": {},
     "output_type": "display_data"
    },
    {
     "name": "stdout",
     "output_type": "stream",
     "text": [
      "\n"
     ]
    },
    {
     "data": {
      "image/png": "[encoded data removed]",
      "text/plain": [
       "<Figure size 500x500 with 1 Axes>"
      ]
     },
     "metadata": {},
     "output_type": "display_data"
    },
    {
     "name": "stdout",
     "output_type": "stream",
     "text": [
      "\n"
     ]
    }
   ],
   "source": [
    "passive_agressive_classifier = PassiveAggressiveClassifier(max_iter=1000, random_state=0,tol=1e-3)\n",
    "passive_agressive_classifier.fit(X_train,y_train)\n",
    "y_prediction = passive_agressive_classifier.predict(X_test)\n",
    "\n",
    "print(classification_report(y_test, y_prediction))\n",
    "print_confusion_matrix(y_test, y_prediction)\n",
    "print_roc_curve(y_test, y_prediction)"
   ]
  },
  {
   "cell_type": "markdown",
   "metadata": {
    "id": "ISsbeS7Ol7q4"
   },
   "source": [
    "# Miscellaneous"
   ]
  },
  {
   "cell_type": "code",
   "execution_count": null,
   "metadata": {
    "colab": {
     "base_uri": "https://localhost:8080/"
    },
    "id": "sF0-44no3p9-",
    "outputId": "df2e3852-ba36-48eb-e70d-39224296e0f1"
   },
   "outputs": [
    {
     "name": "stdout",
     "output_type": "stream",
     "text": [
      "Before:- (67395, 2)\n",
      "After:- (67395, 2)\n"
     ]
    },
    {
     "name": "stderr",
     "output_type": "stream",
     "text": [
      "<ipython-input-48-31051e66b087>:2: FutureWarning: In a future version of pandas all arguments of DataFrame.any and Series.any will be keyword-only.\n",
      "  features_extraction = features_extraction[~features_extraction.isin([np.nan, np.inf, -np.inf]).any(1)]\n"
     ]
    }
   ],
   "source": [
    "# A modification that removes all invalid entries.\n",
    "print(f\"Before:- {features_extraction.shape}\")\n",
    "features_extraction = features_extraction[~features_extraction.isin([np.nan, np.inf, -np.inf]).any(1)]\n",
    "features=features_extraction.dropna()\n",
    "print(f\"After:- {features_extraction.shape}\")"
   ]
  },
  {
   "cell_type": "code",
   "execution_count": null,
   "metadata": {
    "colab": {
     "base_uri": "https://localhost:8080/"
    },
    "id": "QFy6bhQX5VdY",
    "outputId": "89e0569e-47df-42a5-c579-a64d4bbca7b3"
   },
   "outputs": [
    {
     "name": "stdout",
     "output_type": "stream",
     "text": [
      "0\n"
     ]
    }
   ],
   "source": [
    "# A test to see if any review contains no sentence/word.\n",
    "count = 0\n",
    "for i in range(len(processed_dataset)):\n",
    "  if processed_dataset.loc[i,\"review_text_word_count\"] == 0:\n",
    "    count += 1\n",
    "print(count)"
   ]
  },
  {
   "cell_type": "code",
   "execution_count": null,
   "metadata": {
    "colab": {
     "base_uri": "https://localhost:8080/"
    },
    "id": "c8Uh1kS2k8so",
    "outputId": "fe6e8d24-6fbd-404e-fba2-4105063b2810"
   },
   "outputs": [
    {
     "name": "stdout",
     "output_type": "stream",
     "text": [
      "99\n",
      "57\n",
      "156\n",
      "Acutal: {'kinda', 'maybe', 'somewhat', 'seem', 'depended', 'sometimes', 'wonder', 'wondering', 'alot', 'practically', 'or', 'bet', 'typically', 'dunno', 'wonders', 'suppose', 'if', 'appeared', 'chance', 'anytime', 'guessed', 'lotsa', 'pretty', 'overall', 'anywhere', 'anyhow', 'kindof', 'mainly', 'may', 'sortof', 'seems', 'appear', 'almost', 'mightve', 'depend', 'barely', 'usually', 'opinion', 'appears', 'allot', 'probably', 'sorta', 'seemed', 'shaky', 'kind (of)', 'lotta', 'supposed', 'might', 'hope', 'fairly', 'bets', 'quite', 'lot', 'appearing', 'hopes', 'often', 'luck', 'supposes', 'some', 'apparently', 'betting', 'lucked', 'spose', 'sort', 'guesses', 'hoping', 'most', 'sortsa', 'mostly', 'wondered', 'partly', 'option', 'lots ', 'probable', 'lucks', 'lotof', 'lucky', 'anything', 'hopeful', 'any', 'hardly', 'hopefulness', 'sorts', 'supposing', 'varies', 'guessing', 'perhaps', 'depends', 'hopefully', 'hoped', 'hazy', \"might've\", 'sometime', 'generally', 'somehow', 'guess', 'nearly', 'depending', 'vary'}\n",
      "Regex: ['ambigu', 'anybod', 'anyone', 'approximat', 'arbitrar', 'assum', 'blur', 'borderline', 'confus', 'contingen', 'disorient', 'doubt', 'dubious', 'fuzz', 'halfass', 'hazie', 'hesita', 'hypothes', 'hypothetic', 'incomplet', 'indecis', 'indefinit', 'indetermin', 'indirect', 'likel', 'lucki', 'luckless', 'marginal', 'myster', 'obscur', 'occasional', 'possib', 'probablistic', 'puzzl', 'question', 'random', 'seeming', 'shaki', 'somebod', 'someone', 'something', 'supposition', 'tempora', 'tentativ', 'theor', 'uncertain', 'unclear', 'undecided', 'undetermin', 'unknow', 'unlikel', 'unluck', 'unresolv', 'unsettl', 'unsure', 'vague', 'variab']\n"
     ]
    }
   ],
   "source": [
    "# A test to see if LIWC function works\n",
    "categories = [\"tentative\"]\n",
    "actual, regex = get_LIWC_dictionary_words(categories)\n",
    "print(len(actual))\n",
    "print(len(regex))\n",
    "print(len(actual) + len(regex))\n",
    "print(f\"Acutal: {actual}\")\n",
    "print(f\"Regex: {regex}\")"
   ]
  },
  {
   "cell_type": "code",
   "execution_count": null,
   "metadata": {
    "colab": {
     "base_uri": "https://localhost:8080/"
    },
    "id": "pBMSOAZ6r_fY",
    "outputId": "f176bbd2-a069-4cb8-bf5a-ec63a68ce634"
   },
   "outputs": [
    {
     "name": "stdout",
     "output_type": "stream",
     "text": [
      "X.shape = (116952, 24)\n",
      "y.shape = (116952,)\n"
     ]
    }
   ],
   "source": [
    "X = features[[\n",
    "  'f01_generalization_terms_usage',\n",
    "  'f02_richness_of_details',\n",
    "  'f03_richness_of_verifiable_details',\n",
    "  'f04_length_of_the_review',\n",
    "  'f05_first_person_singular_pronouns_usage',\n",
    "  'f06_first_person_plural_pronouns_usage',\n",
    "  'f07_third_person_pronouns_usage',\n",
    "  'f08_present_tense_verbs_usage',\n",
    "  'f09_past_tense_verbs_usage',\n",
    "  'f10_passive_voice_usage',\n",
    "  'f11_negations_usage',\n",
    "  'f12_sentiment_polarity',\n",
    "  'f13_sentiment_subjectivity',\n",
    "  'f14_positive_emotion_words_usage',\n",
    "  'f15_negative_emotion_words_usage',\n",
    "  'f16_location_of_maximum_affect',\n",
    "  'f17_certainty_words_usage',\n",
    "  'f18_uncertainty_words_usage',\n",
    "  'f19_misspelled_words_ratio',\n",
    "  'f20_rating_sentiment_inconsistency',\n",
    "  'f21_number_of_reviews',\n",
    "  'f22_rating_deviation',\n",
    "  'f23_extreme_rating_ratio',\n",
    "  'f24_maximum_reviewing_frequency',\n",
    " ]].to_numpy()\n",
    "\n",
    "y = balanceddata[\"label\"].to_numpy()\n",
    "print(f\"X.shape = {X.shape}\\ny.shape = {y.shape}\")"
   ]
  },
  {
   "cell_type": "code",
   "execution_count": null,
   "metadata": {
    "colab": {
     "base_uri": "https://localhost:8080/"
    },
    "id": "T9YPvzR-q4IM",
    "outputId": "8462e122-ca04-43c0-83dc-0f8e8f313cb6"
   },
   "outputs": [
    {
     "data": {
      "text/plain": [
       "0    8919\n",
       "1    8919\n",
       "Name: label, dtype: int64"
      ]
     },
     "execution_count": 89,
     "metadata": {},
     "output_type": "execute_result"
    }
   ],
   "source": [
    "# Under sampling\n",
    "rus = RandomUnderSampler(sampling_strategy = 1)\n",
    "y = y.astype('int')\n",
    "X_res, y_res = rus.fit_resample(X, y)\n",
    "y_res.value_counts()\n",
    "\n",
    "balanceddata = X_res\n",
    "balanceddata['label'] = y_res\n",
    "balanceddata['label'].value_counts()"
   ]
  },
  {
   "cell_type": "code",
   "execution_count": null,
   "metadata": {
    "colab": {
     "base_uri": "https://localhost:8080/"
    },
    "id": "Z57tBNSvt9q3",
    "outputId": "b7031f91-d6f2-4a2c-e57e-9e4ebce05d96"
   },
   "outputs": [
    {
     "data": {
      "text/plain": [
       "0    58476\n",
       "1    58476\n",
       "Name: label, dtype: int64"
      ]
     },
     "execution_count": 90,
     "metadata": {},
     "output_type": "execute_result"
    }
   ],
   "source": [
    "ros = RandomOverSampler(sampling_strategy = 1) \n",
    "y = y.astype('int')\n",
    "X_res, y_res = ros.fit_resample(X, y)\n",
    "y_res.value_counts()\n",
    "\n",
    "balanceddata = X_res\n",
    "balanceddata['label'] = y_res\n",
    "balanceddata['label'].value_counts()"
   ]
  }
 ],
 "metadata": {
  "colab": {
   "provenance": []
  },
  "kernelspec": {
   "display_name": "Python 3 (ipykernel)",
   "language": "python",
   "name": "python3"
  },
  "language_info": {
   "codemirror_mode": {
    "name": "ipython",
    "version": 3
   },
   "file_extension": ".py",
   "mimetype": "text/x-python",
   "name": "python",
   "nbconvert_exporter": "python",
   "pygments_lexer": "ipython3",
   "version": "3.10.9"
  }
 },
 "nbformat": 4,
 "nbformat_minor": 1
}
