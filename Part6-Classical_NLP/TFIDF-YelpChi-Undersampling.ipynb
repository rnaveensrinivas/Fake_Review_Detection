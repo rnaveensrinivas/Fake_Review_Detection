{
 "cells": [
  {
   "cell_type": "code",
   "execution_count": 4,
   "id": "33ebfbd1",
   "metadata": {},
   "outputs": [
    {
     "data": {
      "text/html": [
       "<div>\n",
       "<style scoped>\n",
       "    .dataframe tbody tr th:only-of-type {\n",
       "        vertical-align: middle;\n",
       "    }\n",
       "\n",
       "    .dataframe tbody tr th {\n",
       "        vertical-align: top;\n",
       "    }\n",
       "\n",
       "    .dataframe thead th {\n",
       "        text-align: right;\n",
       "    }\n",
       "</style>\n",
       "<table border=\"1\" class=\"dataframe\">\n",
       "  <thead>\n",
       "    <tr style=\"text-align: right;\">\n",
       "      <th></th>\n",
       "      <th>date</th>\n",
       "      <th>reviewer_id</th>\n",
       "      <th>product_id</th>\n",
       "      <th>label</th>\n",
       "      <th>star_rating</th>\n",
       "      <th>review_text</th>\n",
       "    </tr>\n",
       "  </thead>\n",
       "  <tbody>\n",
       "    <tr>\n",
       "      <th>0</th>\n",
       "      <td>6/8/2011</td>\n",
       "      <td>IFTr6_6NI4CgCVavIL9k5g</td>\n",
       "      <td>tQfLGoolUMu2J0igcWcoZg</td>\n",
       "      <td>N</td>\n",
       "      <td>5</td>\n",
       "      <td>Let me begin by saying that there are two kind...</td>\n",
       "    </tr>\n",
       "    <tr>\n",
       "      <th>1</th>\n",
       "      <td>8/30/2011</td>\n",
       "      <td>c_-hF15XgNhlyy_TqzmdaA</td>\n",
       "      <td>tQfLGoolUMu2J0igcWcoZg</td>\n",
       "      <td>N</td>\n",
       "      <td>3</td>\n",
       "      <td>The only place inside the Loop that you can st...</td>\n",
       "    </tr>\n",
       "    <tr>\n",
       "      <th>2</th>\n",
       "      <td>6/26/2009</td>\n",
       "      <td>CiwZ6S5ZizAFL5gypf8tLA</td>\n",
       "      <td>tQfLGoolUMu2J0igcWcoZg</td>\n",
       "      <td>N</td>\n",
       "      <td>5</td>\n",
       "      <td>I have walked by the Tokyo Hotel countless tim...</td>\n",
       "    </tr>\n",
       "    <tr>\n",
       "      <th>3</th>\n",
       "      <td>9/16/2010</td>\n",
       "      <td>nf3q2h-kSQoZK2jBY92FOg</td>\n",
       "      <td>tQfLGoolUMu2J0igcWcoZg</td>\n",
       "      <td>N</td>\n",
       "      <td>1</td>\n",
       "      <td>If you are considering staying here, watch thi...</td>\n",
       "    </tr>\n",
       "    <tr>\n",
       "      <th>4</th>\n",
       "      <td>2/5/2010</td>\n",
       "      <td>Sb3DJGdZ4Rq__CqxPbae-g</td>\n",
       "      <td>tQfLGoolUMu2J0igcWcoZg</td>\n",
       "      <td>N</td>\n",
       "      <td>3</td>\n",
       "      <td>This place is disgusting, absolutely horrible,...</td>\n",
       "    </tr>\n",
       "    <tr>\n",
       "      <th>...</th>\n",
       "      <td>...</td>\n",
       "      <td>...</td>\n",
       "      <td>...</td>\n",
       "      <td>...</td>\n",
       "      <td>...</td>\n",
       "      <td>...</td>\n",
       "    </tr>\n",
       "    <tr>\n",
       "      <th>67390</th>\n",
       "      <td>4/7/2012</td>\n",
       "      <td>fUXNHG4x1AN9oPpBSpCtUw</td>\n",
       "      <td>_KI0Y2UO68kJuTFUKucaXQ</td>\n",
       "      <td>N</td>\n",
       "      <td>5</td>\n",
       "      <td>I've passed this place a bunch of times on my ...</td>\n",
       "    </tr>\n",
       "    <tr>\n",
       "      <th>67391</th>\n",
       "      <td>6/5/2009</td>\n",
       "      <td>QQCm2oqSnnz24Z-yHeMtxQ</td>\n",
       "      <td>_KI0Y2UO68kJuTFUKucaXQ</td>\n",
       "      <td>N</td>\n",
       "      <td>4</td>\n",
       "      <td>Rubino's is not really setup as a retail opera...</td>\n",
       "    </tr>\n",
       "    <tr>\n",
       "      <th>67392</th>\n",
       "      <td>5/6/2012</td>\n",
       "      <td>OXRKydSyzC35n2fNUnbopg</td>\n",
       "      <td>XvP-kanjF6SpchosRk0N5g</td>\n",
       "      <td>N</td>\n",
       "      <td>5</td>\n",
       "      <td>This place is amazing. The food is great and y...</td>\n",
       "    </tr>\n",
       "    <tr>\n",
       "      <th>67393</th>\n",
       "      <td>1/8/2011</td>\n",
       "      <td>NE8ULc362aFvnkTDgvZbcA</td>\n",
       "      <td>XvP-kanjF6SpchosRk0N5g</td>\n",
       "      <td>N</td>\n",
       "      <td>2</td>\n",
       "      <td>OK went back the next day as I was driving by ...</td>\n",
       "    </tr>\n",
       "    <tr>\n",
       "      <th>67394</th>\n",
       "      <td>1/25/2010</td>\n",
       "      <td>VaPi2-eXcgIpRF_LGSJ_cA</td>\n",
       "      <td>XvP-kanjF6SpchosRk0N5g</td>\n",
       "      <td>N</td>\n",
       "      <td>5</td>\n",
       "      <td>Delicious, rather authentic Mexican food, must...</td>\n",
       "    </tr>\n",
       "  </tbody>\n",
       "</table>\n",
       "<p>67395 rows × 6 columns</p>\n",
       "</div>"
      ],
      "text/plain": [
       "            date             reviewer_id              product_id label  \\\n",
       "0       6/8/2011  IFTr6_6NI4CgCVavIL9k5g  tQfLGoolUMu2J0igcWcoZg     N   \n",
       "1      8/30/2011  c_-hF15XgNhlyy_TqzmdaA  tQfLGoolUMu2J0igcWcoZg     N   \n",
       "2      6/26/2009  CiwZ6S5ZizAFL5gypf8tLA  tQfLGoolUMu2J0igcWcoZg     N   \n",
       "3      9/16/2010  nf3q2h-kSQoZK2jBY92FOg  tQfLGoolUMu2J0igcWcoZg     N   \n",
       "4       2/5/2010  Sb3DJGdZ4Rq__CqxPbae-g  tQfLGoolUMu2J0igcWcoZg     N   \n",
       "...          ...                     ...                     ...   ...   \n",
       "67390   4/7/2012  fUXNHG4x1AN9oPpBSpCtUw  _KI0Y2UO68kJuTFUKucaXQ     N   \n",
       "67391   6/5/2009  QQCm2oqSnnz24Z-yHeMtxQ  _KI0Y2UO68kJuTFUKucaXQ     N   \n",
       "67392   5/6/2012  OXRKydSyzC35n2fNUnbopg  XvP-kanjF6SpchosRk0N5g     N   \n",
       "67393   1/8/2011  NE8ULc362aFvnkTDgvZbcA  XvP-kanjF6SpchosRk0N5g     N   \n",
       "67394  1/25/2010  VaPi2-eXcgIpRF_LGSJ_cA  XvP-kanjF6SpchosRk0N5g     N   \n",
       "\n",
       "       star_rating                                        review_text  \n",
       "0                5  Let me begin by saying that there are two kind...  \n",
       "1                3  The only place inside the Loop that you can st...  \n",
       "2                5  I have walked by the Tokyo Hotel countless tim...  \n",
       "3                1  If you are considering staying here, watch thi...  \n",
       "4                3  This place is disgusting, absolutely horrible,...  \n",
       "...            ...                                                ...  \n",
       "67390            5  I've passed this place a bunch of times on my ...  \n",
       "67391            4  Rubino's is not really setup as a retail opera...  \n",
       "67392            5  This place is amazing. The food is great and y...  \n",
       "67393            2  OK went back the next day as I was driving by ...  \n",
       "67394            5  Delicious, rather authentic Mexican food, must...  \n",
       "\n",
       "[67395 rows x 6 columns]"
      ]
     },
     "execution_count": 4,
     "metadata": {},
     "output_type": "execute_result"
    }
   ],
   "source": [
    "import pandas as pd\n",
    "df = pd.read_csv(\"YelpChi.csv\")\n",
    "df"
   ]
  },
  {
   "cell_type": "code",
   "execution_count": 5,
   "id": "7fd166f9",
   "metadata": {},
   "outputs": [
    {
     "data": {
      "text/html": [
       "<div>\n",
       "<style scoped>\n",
       "    .dataframe tbody tr th:only-of-type {\n",
       "        vertical-align: middle;\n",
       "    }\n",
       "\n",
       "    .dataframe tbody tr th {\n",
       "        vertical-align: top;\n",
       "    }\n",
       "\n",
       "    .dataframe thead th {\n",
       "        text-align: right;\n",
       "    }\n",
       "</style>\n",
       "<table border=\"1\" class=\"dataframe\">\n",
       "  <thead>\n",
       "    <tr style=\"text-align: right;\">\n",
       "      <th></th>\n",
       "      <th>text</th>\n",
       "      <th>label</th>\n",
       "    </tr>\n",
       "  </thead>\n",
       "  <tbody>\n",
       "    <tr>\n",
       "      <th>0</th>\n",
       "      <td>Let me begin by saying that there are two kind...</td>\n",
       "      <td>N</td>\n",
       "    </tr>\n",
       "    <tr>\n",
       "      <th>1</th>\n",
       "      <td>The only place inside the Loop that you can st...</td>\n",
       "      <td>N</td>\n",
       "    </tr>\n",
       "    <tr>\n",
       "      <th>2</th>\n",
       "      <td>I have walked by the Tokyo Hotel countless tim...</td>\n",
       "      <td>N</td>\n",
       "    </tr>\n",
       "    <tr>\n",
       "      <th>3</th>\n",
       "      <td>If you are considering staying here, watch thi...</td>\n",
       "      <td>N</td>\n",
       "    </tr>\n",
       "    <tr>\n",
       "      <th>4</th>\n",
       "      <td>This place is disgusting, absolutely horrible,...</td>\n",
       "      <td>N</td>\n",
       "    </tr>\n",
       "    <tr>\n",
       "      <th>...</th>\n",
       "      <td>...</td>\n",
       "      <td>...</td>\n",
       "    </tr>\n",
       "    <tr>\n",
       "      <th>67390</th>\n",
       "      <td>I've passed this place a bunch of times on my ...</td>\n",
       "      <td>N</td>\n",
       "    </tr>\n",
       "    <tr>\n",
       "      <th>67391</th>\n",
       "      <td>Rubino's is not really setup as a retail opera...</td>\n",
       "      <td>N</td>\n",
       "    </tr>\n",
       "    <tr>\n",
       "      <th>67392</th>\n",
       "      <td>This place is amazing. The food is great and y...</td>\n",
       "      <td>N</td>\n",
       "    </tr>\n",
       "    <tr>\n",
       "      <th>67393</th>\n",
       "      <td>OK went back the next day as I was driving by ...</td>\n",
       "      <td>N</td>\n",
       "    </tr>\n",
       "    <tr>\n",
       "      <th>67394</th>\n",
       "      <td>Delicious, rather authentic Mexican food, must...</td>\n",
       "      <td>N</td>\n",
       "    </tr>\n",
       "  </tbody>\n",
       "</table>\n",
       "<p>67395 rows × 2 columns</p>\n",
       "</div>"
      ],
      "text/plain": [
       "                                                    text label\n",
       "0      Let me begin by saying that there are two kind...     N\n",
       "1      The only place inside the Loop that you can st...     N\n",
       "2      I have walked by the Tokyo Hotel countless tim...     N\n",
       "3      If you are considering staying here, watch thi...     N\n",
       "4      This place is disgusting, absolutely horrible,...     N\n",
       "...                                                  ...   ...\n",
       "67390  I've passed this place a bunch of times on my ...     N\n",
       "67391  Rubino's is not really setup as a retail opera...     N\n",
       "67392  This place is amazing. The food is great and y...     N\n",
       "67393  OK went back the next day as I was driving by ...     N\n",
       "67394  Delicious, rather authentic Mexican food, must...     N\n",
       "\n",
       "[67395 rows x 2 columns]"
      ]
     },
     "execution_count": 5,
     "metadata": {},
     "output_type": "execute_result"
    }
   ],
   "source": [
    "df['text'] = df.review_text\n",
    "df = df[['text', 'label']]\n",
    "df"
   ]
  },
  {
   "cell_type": "code",
   "execution_count": 6,
   "id": "aa5d4fff",
   "metadata": {
    "scrolled": true
   },
   "outputs": [
    {
     "name": "stderr",
     "output_type": "stream",
     "text": [
      "C:\\Users\\sri\\AppData\\Local\\Temp\\ipykernel_14324\\2155139830.py:1: SettingWithCopyWarning: \n",
      "A value is trying to be set on a copy of a slice from a DataFrame.\n",
      "Try using .loc[row_indexer,col_indexer] = value instead\n",
      "\n",
      "See the caveats in the documentation: https://pandas.pydata.org/pandas-docs/stable/user_guide/indexing.html#returning-a-view-versus-a-copy\n",
      "  df.label = df.label.replace({\n"
     ]
    },
    {
     "data": {
      "text/html": [
       "<div>\n",
       "<style scoped>\n",
       "    .dataframe tbody tr th:only-of-type {\n",
       "        vertical-align: middle;\n",
       "    }\n",
       "\n",
       "    .dataframe tbody tr th {\n",
       "        vertical-align: top;\n",
       "    }\n",
       "\n",
       "    .dataframe thead th {\n",
       "        text-align: right;\n",
       "    }\n",
       "</style>\n",
       "<table border=\"1\" class=\"dataframe\">\n",
       "  <thead>\n",
       "    <tr style=\"text-align: right;\">\n",
       "      <th></th>\n",
       "      <th>text</th>\n",
       "      <th>label</th>\n",
       "    </tr>\n",
       "  </thead>\n",
       "  <tbody>\n",
       "    <tr>\n",
       "      <th>0</th>\n",
       "      <td>Let me begin by saying that there are two kind...</td>\n",
       "      <td>0</td>\n",
       "    </tr>\n",
       "    <tr>\n",
       "      <th>1</th>\n",
       "      <td>The only place inside the Loop that you can st...</td>\n",
       "      <td>0</td>\n",
       "    </tr>\n",
       "    <tr>\n",
       "      <th>2</th>\n",
       "      <td>I have walked by the Tokyo Hotel countless tim...</td>\n",
       "      <td>0</td>\n",
       "    </tr>\n",
       "    <tr>\n",
       "      <th>3</th>\n",
       "      <td>If you are considering staying here, watch thi...</td>\n",
       "      <td>0</td>\n",
       "    </tr>\n",
       "    <tr>\n",
       "      <th>4</th>\n",
       "      <td>This place is disgusting, absolutely horrible,...</td>\n",
       "      <td>0</td>\n",
       "    </tr>\n",
       "    <tr>\n",
       "      <th>...</th>\n",
       "      <td>...</td>\n",
       "      <td>...</td>\n",
       "    </tr>\n",
       "    <tr>\n",
       "      <th>67390</th>\n",
       "      <td>I've passed this place a bunch of times on my ...</td>\n",
       "      <td>0</td>\n",
       "    </tr>\n",
       "    <tr>\n",
       "      <th>67391</th>\n",
       "      <td>Rubino's is not really setup as a retail opera...</td>\n",
       "      <td>0</td>\n",
       "    </tr>\n",
       "    <tr>\n",
       "      <th>67392</th>\n",
       "      <td>This place is amazing. The food is great and y...</td>\n",
       "      <td>0</td>\n",
       "    </tr>\n",
       "    <tr>\n",
       "      <th>67393</th>\n",
       "      <td>OK went back the next day as I was driving by ...</td>\n",
       "      <td>0</td>\n",
       "    </tr>\n",
       "    <tr>\n",
       "      <th>67394</th>\n",
       "      <td>Delicious, rather authentic Mexican food, must...</td>\n",
       "      <td>0</td>\n",
       "    </tr>\n",
       "  </tbody>\n",
       "</table>\n",
       "<p>67395 rows × 2 columns</p>\n",
       "</div>"
      ],
      "text/plain": [
       "                                                    text  label\n",
       "0      Let me begin by saying that there are two kind...      0\n",
       "1      The only place inside the Loop that you can st...      0\n",
       "2      I have walked by the Tokyo Hotel countless tim...      0\n",
       "3      If you are considering staying here, watch thi...      0\n",
       "4      This place is disgusting, absolutely horrible,...      0\n",
       "...                                                  ...    ...\n",
       "67390  I've passed this place a bunch of times on my ...      0\n",
       "67391  Rubino's is not really setup as a retail opera...      0\n",
       "67392  This place is amazing. The food is great and y...      0\n",
       "67393  OK went back the next day as I was driving by ...      0\n",
       "67394  Delicious, rather authentic Mexican food, must...      0\n",
       "\n",
       "[67395 rows x 2 columns]"
      ]
     },
     "execution_count": 6,
     "metadata": {},
     "output_type": "execute_result"
    }
   ],
   "source": [
    "df.label = df.label.replace({\n",
    "    'N': 0,\n",
    "    'Y': 1\n",
    "})\n",
    "df"
   ]
  },
  {
   "cell_type": "code",
   "execution_count": 7,
   "id": "7c6b5ca3",
   "metadata": {},
   "outputs": [],
   "source": [
    "import seaborn as sn\n",
    "import matplotlib.pyplot as plt\n",
    "%matplotlib inline"
   ]
  },
  {
   "cell_type": "code",
   "execution_count": 8,
   "id": "21f66550",
   "metadata": {},
   "outputs": [
    {
     "data": {
      "text/plain": [
       "<Axes: xlabel='label', ylabel='count'>"
      ]
     },
     "execution_count": 8,
     "metadata": {},
     "output_type": "execute_result"
    },
    {
     "data": {
      "image/png": "[encoded data removed]",
      "text/plain": [
       "<Figure size 640x480 with 1 Axes>"
      ]
     },
     "metadata": {},
     "output_type": "display_data"
    }
   ],
   "source": [
    "sn.countplot(x = df.label)"
   ]
  },
  {
   "cell_type": "code",
   "execution_count": 9,
   "id": "e0a7f693",
   "metadata": {},
   "outputs": [],
   "source": [
    "import nltk\n",
    "import re\n",
    "import string\n",
    "\n",
    "def text_cleaning(text):\n",
    "    \"\"\"\n",
    "    Preprocessing of text. \n",
    "    Lowercasing,\n",
    "    remove links, \n",
    "    remove special characters,\n",
    "    remove word containing numbers,\n",
    "    \"\"\"\n",
    "    \n",
    "    text = text.lower()\n",
    "    text = re.sub('\\[.*?\\]', '', text)\n",
    "    text = re.sub('\\\\W', ' ', text)\n",
    "    text = re.sub('https?://\\S+|www\\.\\S+', '', text)\n",
    "    text = re.sub('<.*?>+', '', text)\n",
    "    text = re.sub('[%s]' % re.escape(string.punctuation), '', text)\n",
    "    text = re.sub('\\n', '', text)\n",
    "    text = re.sub('\\w*\\d\\w*', '', text)\n",
    "    \n",
    "    return text"
   ]
  },
  {
   "cell_type": "code",
   "execution_count": 10,
   "id": "c3b98595",
   "metadata": {},
   "outputs": [
    {
     "name": "stderr",
     "output_type": "stream",
     "text": [
      "C:\\Users\\sri\\AppData\\Local\\Temp\\ipykernel_14324\\4216237446.py:1: SettingWithCopyWarning: \n",
      "A value is trying to be set on a copy of a slice from a DataFrame.\n",
      "Try using .loc[row_indexer,col_indexer] = value instead\n",
      "\n",
      "See the caveats in the documentation: https://pandas.pydata.org/pandas-docs/stable/user_guide/indexing.html#returning-a-view-versus-a-copy\n",
      "  df.text = df.text.apply(text_cleaning)\n"
     ]
    },
    {
     "data": {
      "text/html": [
       "<div>\n",
       "<style scoped>\n",
       "    .dataframe tbody tr th:only-of-type {\n",
       "        vertical-align: middle;\n",
       "    }\n",
       "\n",
       "    .dataframe tbody tr th {\n",
       "        vertical-align: top;\n",
       "    }\n",
       "\n",
       "    .dataframe thead th {\n",
       "        text-align: right;\n",
       "    }\n",
       "</style>\n",
       "<table border=\"1\" class=\"dataframe\">\n",
       "  <thead>\n",
       "    <tr style=\"text-align: right;\">\n",
       "      <th></th>\n",
       "      <th>text</th>\n",
       "      <th>label</th>\n",
       "    </tr>\n",
       "  </thead>\n",
       "  <tbody>\n",
       "    <tr>\n",
       "      <th>0</th>\n",
       "      <td>let me begin by saying that there are two kind...</td>\n",
       "      <td>0</td>\n",
       "    </tr>\n",
       "    <tr>\n",
       "      <th>1</th>\n",
       "      <td>the only place inside the loop that you can st...</td>\n",
       "      <td>0</td>\n",
       "    </tr>\n",
       "    <tr>\n",
       "      <th>2</th>\n",
       "      <td>i have walked by the tokyo hotel countless tim...</td>\n",
       "      <td>0</td>\n",
       "    </tr>\n",
       "    <tr>\n",
       "      <th>3</th>\n",
       "      <td>if you are considering staying here  watch thi...</td>\n",
       "      <td>0</td>\n",
       "    </tr>\n",
       "    <tr>\n",
       "      <th>4</th>\n",
       "      <td>this place is disgusting  absolutely horrible ...</td>\n",
       "      <td>0</td>\n",
       "    </tr>\n",
       "    <tr>\n",
       "      <th>...</th>\n",
       "      <td>...</td>\n",
       "      <td>...</td>\n",
       "    </tr>\n",
       "    <tr>\n",
       "      <th>67390</th>\n",
       "      <td>i ve passed this place a bunch of times on my ...</td>\n",
       "      <td>0</td>\n",
       "    </tr>\n",
       "    <tr>\n",
       "      <th>67391</th>\n",
       "      <td>rubino s is not really setup as a retail opera...</td>\n",
       "      <td>0</td>\n",
       "    </tr>\n",
       "    <tr>\n",
       "      <th>67392</th>\n",
       "      <td>this place is amazing  the food is great and y...</td>\n",
       "      <td>0</td>\n",
       "    </tr>\n",
       "    <tr>\n",
       "      <th>67393</th>\n",
       "      <td>ok went back the next day as i was driving by ...</td>\n",
       "      <td>0</td>\n",
       "    </tr>\n",
       "    <tr>\n",
       "      <th>67394</th>\n",
       "      <td>delicious  rather authentic mexican food  must...</td>\n",
       "      <td>0</td>\n",
       "    </tr>\n",
       "  </tbody>\n",
       "</table>\n",
       "<p>67395 rows × 2 columns</p>\n",
       "</div>"
      ],
      "text/plain": [
       "                                                    text  label\n",
       "0      let me begin by saying that there are two kind...      0\n",
       "1      the only place inside the loop that you can st...      0\n",
       "2      i have walked by the tokyo hotel countless tim...      0\n",
       "3      if you are considering staying here  watch thi...      0\n",
       "4      this place is disgusting  absolutely horrible ...      0\n",
       "...                                                  ...    ...\n",
       "67390  i ve passed this place a bunch of times on my ...      0\n",
       "67391  rubino s is not really setup as a retail opera...      0\n",
       "67392  this place is amazing  the food is great and y...      0\n",
       "67393  ok went back the next day as i was driving by ...      0\n",
       "67394  delicious  rather authentic mexican food  must...      0\n",
       "\n",
       "[67395 rows x 2 columns]"
      ]
     },
     "execution_count": 10,
     "metadata": {},
     "output_type": "execute_result"
    }
   ],
   "source": [
    "df.text = df.text.apply(text_cleaning)\n",
    "df"
   ]
  },
  {
   "cell_type": "code",
   "execution_count": null,
   "id": "6a489bc8",
   "metadata": {},
   "outputs": [],
   "source": [
    "import spacy\n",
    "nlp = spacy.load(\"en_core_web_sm\")\n",
    "\n",
    "def text_preprocessing(text):\n",
    "    doc = nlp(text)\n",
    "    tokens = set()\n",
    "    for token in doc:\n",
    "        if not token.is_stop:\n",
    "            tokens.add(token.lemma_)\n",
    "    return ' '.join(tokens)"
   ]
  },
  {
   "cell_type": "code",
   "execution_count": null,
   "id": "f99f91c5",
   "metadata": {},
   "outputs": [],
   "source": [
    "df.text = df.text.apply(text_preprocessing)\n",
    "df"
   ]
  },
  {
   "cell_type": "code",
   "execution_count": 11,
   "id": "919f4386",
   "metadata": {},
   "outputs": [],
   "source": [
    "X = df.text\n",
    "y = df.label"
   ]
  },
  {
   "cell_type": "code",
   "execution_count": 12,
   "id": "0f39aec7",
   "metadata": {},
   "outputs": [
    {
     "name": "stdout",
     "output_type": "stream",
     "text": [
      "(67395, 60318)\n"
     ]
    }
   ],
   "source": [
    "from sklearn.feature_extraction.text import TfidfVectorizer\n",
    "v = TfidfVectorizer()\n",
    "X = v.fit_transform(X)\n",
    "print(X.shape)"
   ]
  },
  {
   "cell_type": "code",
   "execution_count": 13,
   "id": "01321c8b",
   "metadata": {},
   "outputs": [],
   "source": [
    "from imblearn.under_sampling import RandomUnderSampler"
   ]
  },
  {
   "cell_type": "code",
   "execution_count": 14,
   "id": "c284c422",
   "metadata": {},
   "outputs": [
    {
     "data": {
      "text/plain": [
       "0    58476\n",
       "1     8919\n",
       "Name: label, dtype: int64"
      ]
     },
     "execution_count": 14,
     "metadata": {},
     "output_type": "execute_result"
    }
   ],
   "source": [
    "y.value_counts()"
   ]
  },
  {
   "cell_type": "code",
   "execution_count": 15,
   "id": "5356ee8c",
   "metadata": {},
   "outputs": [
    {
     "data": {
      "text/plain": [
       "0    8919\n",
       "1    8919\n",
       "Name: label, dtype: int64"
      ]
     },
     "execution_count": 15,
     "metadata": {},
     "output_type": "execute_result"
    }
   ],
   "source": [
    "# Undersampling the minority class.\n",
    "rus = RandomUnderSampler(sampling_strategy = 1) \n",
    "y = y.astype('int')\n",
    "X, y = rus.fit_resample(X, y)\n",
    "y.value_counts()"
   ]
  },
  {
   "cell_type": "code",
   "execution_count": 16,
   "id": "3adca1a8",
   "metadata": {},
   "outputs": [],
   "source": [
    "from sklearn.model_selection import train_test_split\n",
    "\n",
    "X_train, X_test, y_train, y_test = train_test_split(X,\n",
    "                                                    y,\n",
    "                                                    random_state = 3,\n",
    "                                                    test_size = 0.2\n",
    "                                                   )"
   ]
  },
  {
   "cell_type": "code",
   "execution_count": 17,
   "id": "df306eaa",
   "metadata": {},
   "outputs": [],
   "source": [
    "from sklearn.metrics import confusion_matrix\n",
    "from sklearn.metrics import classification_report\n",
    "\n",
    "import seaborn as sn\n",
    "import matplotlib.pyplot as plt\n",
    "%matplotlib inline\n",
    "\n",
    "def print_results(y_test, y_pred):\n",
    "    \n",
    "    cm = confusion_matrix(y_test, y_pred)\n",
    "    plt.figure(figsize = (5,4))\n",
    "    sn.heatmap(cm, annot = True, fmt=\"d\")\n",
    "    plt.xlabel(\"Prediction\")\n",
    "    plt.ylabel(\"Target\")\n",
    "    \n",
    "    print(classification_report(y_test, y_pred))"
   ]
  },
  {
   "cell_type": "code",
   "execution_count": 18,
   "id": "ea99559b",
   "metadata": {},
   "outputs": [
    {
     "name": "stdout",
     "output_type": "stream",
     "text": [
      "              precision    recall  f1-score   support\n",
      "\n",
      "           0       0.67      0.65      0.66      1813\n",
      "           1       0.65      0.66      0.66      1755\n",
      "\n",
      "    accuracy                           0.66      3568\n",
      "   macro avg       0.66      0.66      0.66      3568\n",
      "weighted avg       0.66      0.66      0.66      3568\n",
      "\n"
     ]
    },
    {
     "data": {
      "image/png": "[encoded data removed]",
      "text/plain": [
       "<Figure size 500x400 with 2 Axes>"
      ]
     },
     "metadata": {},
     "output_type": "display_data"
    }
   ],
   "source": [
    "from sklearn.linear_model import LogisticRegression\n",
    "\n",
    "model = LogisticRegression(max_iter=1500)\n",
    "model.fit(X_train, y_train)\n",
    "y_pred = model.predict(X_test)\n",
    "print_results(y_test, y_pred)"
   ]
  },
  {
   "cell_type": "code",
   "execution_count": null,
   "id": "0cceafaa",
   "metadata": {},
   "outputs": [],
   "source": []
  }
 ],
 "metadata": {
  "kernelspec": {
   "display_name": "Python 3 (ipykernel)",
   "language": "python",
   "name": "python3"
  },
  "language_info": {
   "codemirror_mode": {
    "name": "ipython",
    "version": 3
   },
   "file_extension": ".py",
   "mimetype": "text/x-python",
   "name": "python",
   "nbconvert_exporter": "python",
   "pygments_lexer": "ipython3",
   "version": "3.10.9"
  }
 },
 "nbformat": 4,
 "nbformat_minor": 5
}
